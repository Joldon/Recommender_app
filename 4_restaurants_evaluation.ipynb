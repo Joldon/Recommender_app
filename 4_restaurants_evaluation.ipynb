{
  "cells": [
    {
      "attachments": {},
      "cell_type": "markdown",
      "metadata": {
        "id": "RDrVxX8XaJXl"
      },
      "source": [
        "# Evaluating recommender systems"
      ]
    },
    {
      "attachments": {},
      "cell_type": "markdown",
      "metadata": {
        "id": "fRAvq-p9PqJv"
      },
      "source": [
        "We will look at the restaurant recommendations once more. To evaluate our recommender system, we will split our data into train and test sets again. This allows us to compare predictions with true values and evaluate how well our recommender performs."
      ]
    },
    {
      "cell_type": "code",
      "execution_count": 2,
      "metadata": {
        "id": "CGZsjXrNaHAP"
      },
      "outputs": [],
      "source": [
        "import pandas as pd\n",
        "import numpy as np"
      ]
    },
    {
      "attachments": {},
      "cell_type": "markdown",
      "metadata": {
        "id": "azTi88N2adCh"
      },
      "source": [
        "# 1.&nbsp;Import data"
      ]
    },
    {
      "cell_type": "code",
      "execution_count": 3,
      "metadata": {
        "id": "kDBPIi-gPqJo"
      },
      "outputs": [],
      "source": [
        "# Import the csv with the ratings.\n",
        "url = 'https://drive.google.com/file/d/1ptu4AlEXO4qQ8GytxKHoeuS1y4l_zWkC/view?usp=sharing' \n",
        "path = 'https://drive.google.com/uc?export=download&id='+url.split('/')[-2]\n",
        "frame = pd.read_csv(path)\n",
        "\n",
        "users_items = pd.pivot_table(data=frame, \n",
        "                                 values='rating', \n",
        "                                 index='userID', \n",
        "                                 columns='placeID')\n",
        "\n",
        "users_items.fillna(0, inplace=True)"
      ]
    },
    {
      "cell_type": "code",
      "execution_count": 4,
      "metadata": {
        "id": "Rz73th7pPqJs"
      },
      "outputs": [
        {
          "data": {
            "text/html": [
              "<div>\n",
              "<style scoped>\n",
              "    .dataframe tbody tr th:only-of-type {\n",
              "        vertical-align: middle;\n",
              "    }\n",
              "\n",
              "    .dataframe tbody tr th {\n",
              "        vertical-align: top;\n",
              "    }\n",
              "\n",
              "    .dataframe thead th {\n",
              "        text-align: right;\n",
              "    }\n",
              "</style>\n",
              "<table border=\"1\" class=\"dataframe\">\n",
              "  <thead>\n",
              "    <tr style=\"text-align: right;\">\n",
              "      <th>placeID</th>\n",
              "      <th>132560</th>\n",
              "      <th>132561</th>\n",
              "      <th>132564</th>\n",
              "      <th>132572</th>\n",
              "      <th>132583</th>\n",
              "      <th>132584</th>\n",
              "      <th>132594</th>\n",
              "      <th>132608</th>\n",
              "      <th>132609</th>\n",
              "      <th>132613</th>\n",
              "      <th>...</th>\n",
              "      <th>135080</th>\n",
              "      <th>135081</th>\n",
              "      <th>135082</th>\n",
              "      <th>135085</th>\n",
              "      <th>135086</th>\n",
              "      <th>135088</th>\n",
              "      <th>135104</th>\n",
              "      <th>135106</th>\n",
              "      <th>135108</th>\n",
              "      <th>135109</th>\n",
              "    </tr>\n",
              "    <tr>\n",
              "      <th>userID</th>\n",
              "      <th></th>\n",
              "      <th></th>\n",
              "      <th></th>\n",
              "      <th></th>\n",
              "      <th></th>\n",
              "      <th></th>\n",
              "      <th></th>\n",
              "      <th></th>\n",
              "      <th></th>\n",
              "      <th></th>\n",
              "      <th></th>\n",
              "      <th></th>\n",
              "      <th></th>\n",
              "      <th></th>\n",
              "      <th></th>\n",
              "      <th></th>\n",
              "      <th></th>\n",
              "      <th></th>\n",
              "      <th></th>\n",
              "      <th></th>\n",
              "      <th></th>\n",
              "    </tr>\n",
              "  </thead>\n",
              "  <tbody>\n",
              "    <tr>\n",
              "      <th>U1001</th>\n",
              "      <td>0.0</td>\n",
              "      <td>0.0</td>\n",
              "      <td>0.0</td>\n",
              "      <td>0.0</td>\n",
              "      <td>0.0</td>\n",
              "      <td>0.0</td>\n",
              "      <td>0.0</td>\n",
              "      <td>0.0</td>\n",
              "      <td>0.0</td>\n",
              "      <td>0.0</td>\n",
              "      <td>...</td>\n",
              "      <td>0.0</td>\n",
              "      <td>0.0</td>\n",
              "      <td>0.0</td>\n",
              "      <td>0.0</td>\n",
              "      <td>0.0</td>\n",
              "      <td>0.0</td>\n",
              "      <td>0.0</td>\n",
              "      <td>0.0</td>\n",
              "      <td>0.0</td>\n",
              "      <td>0.0</td>\n",
              "    </tr>\n",
              "    <tr>\n",
              "      <th>U1002</th>\n",
              "      <td>0.0</td>\n",
              "      <td>0.0</td>\n",
              "      <td>0.0</td>\n",
              "      <td>0.0</td>\n",
              "      <td>0.0</td>\n",
              "      <td>0.0</td>\n",
              "      <td>0.0</td>\n",
              "      <td>0.0</td>\n",
              "      <td>0.0</td>\n",
              "      <td>0.0</td>\n",
              "      <td>...</td>\n",
              "      <td>0.0</td>\n",
              "      <td>0.0</td>\n",
              "      <td>0.0</td>\n",
              "      <td>1.0</td>\n",
              "      <td>0.0</td>\n",
              "      <td>0.0</td>\n",
              "      <td>0.0</td>\n",
              "      <td>1.0</td>\n",
              "      <td>0.0</td>\n",
              "      <td>0.0</td>\n",
              "    </tr>\n",
              "    <tr>\n",
              "      <th>U1003</th>\n",
              "      <td>0.0</td>\n",
              "      <td>0.0</td>\n",
              "      <td>0.0</td>\n",
              "      <td>0.0</td>\n",
              "      <td>0.0</td>\n",
              "      <td>0.0</td>\n",
              "      <td>0.0</td>\n",
              "      <td>0.0</td>\n",
              "      <td>0.0</td>\n",
              "      <td>0.0</td>\n",
              "      <td>...</td>\n",
              "      <td>2.0</td>\n",
              "      <td>0.0</td>\n",
              "      <td>0.0</td>\n",
              "      <td>0.0</td>\n",
              "      <td>0.0</td>\n",
              "      <td>0.0</td>\n",
              "      <td>0.0</td>\n",
              "      <td>0.0</td>\n",
              "      <td>0.0</td>\n",
              "      <td>0.0</td>\n",
              "    </tr>\n",
              "    <tr>\n",
              "      <th>U1004</th>\n",
              "      <td>0.0</td>\n",
              "      <td>0.0</td>\n",
              "      <td>0.0</td>\n",
              "      <td>0.0</td>\n",
              "      <td>0.0</td>\n",
              "      <td>0.0</td>\n",
              "      <td>0.0</td>\n",
              "      <td>0.0</td>\n",
              "      <td>0.0</td>\n",
              "      <td>0.0</td>\n",
              "      <td>...</td>\n",
              "      <td>0.0</td>\n",
              "      <td>0.0</td>\n",
              "      <td>0.0</td>\n",
              "      <td>0.0</td>\n",
              "      <td>0.0</td>\n",
              "      <td>0.0</td>\n",
              "      <td>0.0</td>\n",
              "      <td>2.0</td>\n",
              "      <td>0.0</td>\n",
              "      <td>0.0</td>\n",
              "    </tr>\n",
              "    <tr>\n",
              "      <th>U1005</th>\n",
              "      <td>0.0</td>\n",
              "      <td>0.0</td>\n",
              "      <td>0.0</td>\n",
              "      <td>0.0</td>\n",
              "      <td>0.0</td>\n",
              "      <td>0.0</td>\n",
              "      <td>0.0</td>\n",
              "      <td>0.0</td>\n",
              "      <td>0.0</td>\n",
              "      <td>0.0</td>\n",
              "      <td>...</td>\n",
              "      <td>0.0</td>\n",
              "      <td>0.0</td>\n",
              "      <td>0.0</td>\n",
              "      <td>0.0</td>\n",
              "      <td>0.0</td>\n",
              "      <td>0.0</td>\n",
              "      <td>0.0</td>\n",
              "      <td>0.0</td>\n",
              "      <td>0.0</td>\n",
              "      <td>0.0</td>\n",
              "    </tr>\n",
              "    <tr>\n",
              "      <th>...</th>\n",
              "      <td>...</td>\n",
              "      <td>...</td>\n",
              "      <td>...</td>\n",
              "      <td>...</td>\n",
              "      <td>...</td>\n",
              "      <td>...</td>\n",
              "      <td>...</td>\n",
              "      <td>...</td>\n",
              "      <td>...</td>\n",
              "      <td>...</td>\n",
              "      <td>...</td>\n",
              "      <td>...</td>\n",
              "      <td>...</td>\n",
              "      <td>...</td>\n",
              "      <td>...</td>\n",
              "      <td>...</td>\n",
              "      <td>...</td>\n",
              "      <td>...</td>\n",
              "      <td>...</td>\n",
              "      <td>...</td>\n",
              "      <td>...</td>\n",
              "    </tr>\n",
              "    <tr>\n",
              "      <th>U1134</th>\n",
              "      <td>0.0</td>\n",
              "      <td>0.0</td>\n",
              "      <td>0.0</td>\n",
              "      <td>0.0</td>\n",
              "      <td>0.0</td>\n",
              "      <td>0.0</td>\n",
              "      <td>0.0</td>\n",
              "      <td>0.0</td>\n",
              "      <td>0.0</td>\n",
              "      <td>0.0</td>\n",
              "      <td>...</td>\n",
              "      <td>1.0</td>\n",
              "      <td>0.0</td>\n",
              "      <td>0.0</td>\n",
              "      <td>2.0</td>\n",
              "      <td>0.0</td>\n",
              "      <td>0.0</td>\n",
              "      <td>0.0</td>\n",
              "      <td>0.0</td>\n",
              "      <td>0.0</td>\n",
              "      <td>0.0</td>\n",
              "    </tr>\n",
              "    <tr>\n",
              "      <th>U1135</th>\n",
              "      <td>0.0</td>\n",
              "      <td>0.0</td>\n",
              "      <td>0.0</td>\n",
              "      <td>0.0</td>\n",
              "      <td>0.0</td>\n",
              "      <td>0.0</td>\n",
              "      <td>0.0</td>\n",
              "      <td>0.0</td>\n",
              "      <td>0.0</td>\n",
              "      <td>0.0</td>\n",
              "      <td>...</td>\n",
              "      <td>0.0</td>\n",
              "      <td>0.0</td>\n",
              "      <td>0.0</td>\n",
              "      <td>0.0</td>\n",
              "      <td>0.0</td>\n",
              "      <td>0.0</td>\n",
              "      <td>0.0</td>\n",
              "      <td>0.0</td>\n",
              "      <td>0.0</td>\n",
              "      <td>0.0</td>\n",
              "    </tr>\n",
              "    <tr>\n",
              "      <th>U1136</th>\n",
              "      <td>0.0</td>\n",
              "      <td>0.0</td>\n",
              "      <td>0.0</td>\n",
              "      <td>0.0</td>\n",
              "      <td>0.0</td>\n",
              "      <td>0.0</td>\n",
              "      <td>0.0</td>\n",
              "      <td>0.0</td>\n",
              "      <td>0.0</td>\n",
              "      <td>0.0</td>\n",
              "      <td>...</td>\n",
              "      <td>0.0</td>\n",
              "      <td>0.0</td>\n",
              "      <td>0.0</td>\n",
              "      <td>0.0</td>\n",
              "      <td>0.0</td>\n",
              "      <td>0.0</td>\n",
              "      <td>0.0</td>\n",
              "      <td>0.0</td>\n",
              "      <td>0.0</td>\n",
              "      <td>0.0</td>\n",
              "    </tr>\n",
              "    <tr>\n",
              "      <th>U1137</th>\n",
              "      <td>0.0</td>\n",
              "      <td>0.0</td>\n",
              "      <td>0.0</td>\n",
              "      <td>0.0</td>\n",
              "      <td>0.0</td>\n",
              "      <td>0.0</td>\n",
              "      <td>0.0</td>\n",
              "      <td>0.0</td>\n",
              "      <td>0.0</td>\n",
              "      <td>0.0</td>\n",
              "      <td>...</td>\n",
              "      <td>0.0</td>\n",
              "      <td>0.0</td>\n",
              "      <td>0.0</td>\n",
              "      <td>2.0</td>\n",
              "      <td>0.0</td>\n",
              "      <td>0.0</td>\n",
              "      <td>0.0</td>\n",
              "      <td>0.0</td>\n",
              "      <td>0.0</td>\n",
              "      <td>0.0</td>\n",
              "    </tr>\n",
              "    <tr>\n",
              "      <th>U1138</th>\n",
              "      <td>0.0</td>\n",
              "      <td>0.0</td>\n",
              "      <td>0.0</td>\n",
              "      <td>0.0</td>\n",
              "      <td>0.0</td>\n",
              "      <td>0.0</td>\n",
              "      <td>0.0</td>\n",
              "      <td>0.0</td>\n",
              "      <td>0.0</td>\n",
              "      <td>0.0</td>\n",
              "      <td>...</td>\n",
              "      <td>0.0</td>\n",
              "      <td>0.0</td>\n",
              "      <td>0.0</td>\n",
              "      <td>0.0</td>\n",
              "      <td>0.0</td>\n",
              "      <td>0.0</td>\n",
              "      <td>0.0</td>\n",
              "      <td>0.0</td>\n",
              "      <td>0.0</td>\n",
              "      <td>0.0</td>\n",
              "    </tr>\n",
              "  </tbody>\n",
              "</table>\n",
              "<p>138 rows × 130 columns</p>\n",
              "</div>"
            ],
            "text/plain": [
              "placeID  132560  132561  132564  132572  132583  132584  132594  132608  \\\n",
              "userID                                                                    \n",
              "U1001       0.0     0.0     0.0     0.0     0.0     0.0     0.0     0.0   \n",
              "U1002       0.0     0.0     0.0     0.0     0.0     0.0     0.0     0.0   \n",
              "U1003       0.0     0.0     0.0     0.0     0.0     0.0     0.0     0.0   \n",
              "U1004       0.0     0.0     0.0     0.0     0.0     0.0     0.0     0.0   \n",
              "U1005       0.0     0.0     0.0     0.0     0.0     0.0     0.0     0.0   \n",
              "...         ...     ...     ...     ...     ...     ...     ...     ...   \n",
              "U1134       0.0     0.0     0.0     0.0     0.0     0.0     0.0     0.0   \n",
              "U1135       0.0     0.0     0.0     0.0     0.0     0.0     0.0     0.0   \n",
              "U1136       0.0     0.0     0.0     0.0     0.0     0.0     0.0     0.0   \n",
              "U1137       0.0     0.0     0.0     0.0     0.0     0.0     0.0     0.0   \n",
              "U1138       0.0     0.0     0.0     0.0     0.0     0.0     0.0     0.0   \n",
              "\n",
              "placeID  132609  132613  ...  135080  135081  135082  135085  135086  135088  \\\n",
              "userID                   ...                                                   \n",
              "U1001       0.0     0.0  ...     0.0     0.0     0.0     0.0     0.0     0.0   \n",
              "U1002       0.0     0.0  ...     0.0     0.0     0.0     1.0     0.0     0.0   \n",
              "U1003       0.0     0.0  ...     2.0     0.0     0.0     0.0     0.0     0.0   \n",
              "U1004       0.0     0.0  ...     0.0     0.0     0.0     0.0     0.0     0.0   \n",
              "U1005       0.0     0.0  ...     0.0     0.0     0.0     0.0     0.0     0.0   \n",
              "...         ...     ...  ...     ...     ...     ...     ...     ...     ...   \n",
              "U1134       0.0     0.0  ...     1.0     0.0     0.0     2.0     0.0     0.0   \n",
              "U1135       0.0     0.0  ...     0.0     0.0     0.0     0.0     0.0     0.0   \n",
              "U1136       0.0     0.0  ...     0.0     0.0     0.0     0.0     0.0     0.0   \n",
              "U1137       0.0     0.0  ...     0.0     0.0     0.0     2.0     0.0     0.0   \n",
              "U1138       0.0     0.0  ...     0.0     0.0     0.0     0.0     0.0     0.0   \n",
              "\n",
              "placeID  135104  135106  135108  135109  \n",
              "userID                                   \n",
              "U1001       0.0     0.0     0.0     0.0  \n",
              "U1002       0.0     1.0     0.0     0.0  \n",
              "U1003       0.0     0.0     0.0     0.0  \n",
              "U1004       0.0     2.0     0.0     0.0  \n",
              "U1005       0.0     0.0     0.0     0.0  \n",
              "...         ...     ...     ...     ...  \n",
              "U1134       0.0     0.0     0.0     0.0  \n",
              "U1135       0.0     0.0     0.0     0.0  \n",
              "U1136       0.0     0.0     0.0     0.0  \n",
              "U1137       0.0     0.0     0.0     0.0  \n",
              "U1138       0.0     0.0     0.0     0.0  \n",
              "\n",
              "[138 rows x 130 columns]"
            ]
          },
          "execution_count": 4,
          "metadata": {},
          "output_type": "execute_result"
        }
      ],
      "source": [
        "users_items"
      ]
    },
    {
      "attachments": {},
      "cell_type": "markdown",
      "metadata": {
        "id": "ik67nizgPqJt"
      },
      "source": [
        "# 2.&nbsp;Train-test split"
      ]
    },
    {
      "attachments": {},
      "cell_type": "markdown",
      "metadata": {
        "id": "mWRW1wFNa0-M"
      },
      "source": [
        "## 2.1&nbsp;Find all nonzero ratings"
      ]
    },
    {
      "attachments": {},
      "cell_type": "markdown",
      "metadata": {
        "id": "dyctqmE8bBYd"
      },
      "source": [
        "This will help us make the train and test split.\n",
        "\n",
        "The `0.0` ratings cannot go to the test set. Therefore, we need to identify the non-zero ratings and make the split on them."
      ]
    },
    {
      "cell_type": "code",
      "execution_count": 5,
      "metadata": {
        "id": "OqjHi9O6PqJw"
      },
      "outputs": [
        {
          "data": {
            "text/html": [
              "<div>\n",
              "<style scoped>\n",
              "    .dataframe tbody tr th:only-of-type {\n",
              "        vertical-align: middle;\n",
              "    }\n",
              "\n",
              "    .dataframe tbody tr th {\n",
              "        vertical-align: top;\n",
              "    }\n",
              "\n",
              "    .dataframe thead th {\n",
              "        text-align: right;\n",
              "    }\n",
              "</style>\n",
              "<table border=\"1\" class=\"dataframe\">\n",
              "  <thead>\n",
              "    <tr style=\"text-align: right;\">\n",
              "      <th></th>\n",
              "      <th>0</th>\n",
              "      <th>1</th>\n",
              "    </tr>\n",
              "  </thead>\n",
              "  <tbody>\n",
              "    <tr>\n",
              "      <th>0</th>\n",
              "      <td>0</td>\n",
              "      <td>31</td>\n",
              "    </tr>\n",
              "    <tr>\n",
              "      <th>1</th>\n",
              "      <td>0</td>\n",
              "      <td>32</td>\n",
              "    </tr>\n",
              "    <tr>\n",
              "      <th>2</th>\n",
              "      <td>0</td>\n",
              "      <td>75</td>\n",
              "    </tr>\n",
              "    <tr>\n",
              "      <th>3</th>\n",
              "      <td>0</td>\n",
              "      <td>81</td>\n",
              "    </tr>\n",
              "    <tr>\n",
              "      <th>4</th>\n",
              "      <td>0</td>\n",
              "      <td>85</td>\n",
              "    </tr>\n",
              "  </tbody>\n",
              "</table>\n",
              "</div>"
            ],
            "text/plain": [
              "   0   1\n",
              "0  0  31\n",
              "1  0  32\n",
              "2  0  75\n",
              "3  0  81\n",
              "4  0  85"
            ]
          },
          "execution_count": 5,
          "metadata": {},
          "output_type": "execute_result"
        }
      ],
      "source": [
        "# Create a DataFrame that contains the positions of all nonzero ratings.\n",
        "ratings_pos = pd.DataFrame(\n",
        "    np.nonzero(np.array(users_items)),\n",
        "    ).T\n",
        "\n",
        "ratings_pos.head()"
      ]
    },
    {
      "cell_type": "code",
      "execution_count": 6,
      "metadata": {
        "id": "jtU7gQ9rcCNU"
      },
      "outputs": [
        {
          "data": {
            "text/html": [
              "<div>\n",
              "<style scoped>\n",
              "    .dataframe tbody tr th:only-of-type {\n",
              "        vertical-align: middle;\n",
              "    }\n",
              "\n",
              "    .dataframe tbody tr th {\n",
              "        vertical-align: top;\n",
              "    }\n",
              "\n",
              "    .dataframe thead th {\n",
              "        text-align: right;\n",
              "    }\n",
              "</style>\n",
              "<table border=\"1\" class=\"dataframe\">\n",
              "  <thead>\n",
              "    <tr style=\"text-align: right;\">\n",
              "      <th></th>\n",
              "      <th>row_pos</th>\n",
              "      <th>column_pos</th>\n",
              "    </tr>\n",
              "  </thead>\n",
              "  <tbody>\n",
              "    <tr>\n",
              "      <th>0</th>\n",
              "      <td>0</td>\n",
              "      <td>31</td>\n",
              "    </tr>\n",
              "    <tr>\n",
              "      <th>1</th>\n",
              "      <td>0</td>\n",
              "      <td>32</td>\n",
              "    </tr>\n",
              "    <tr>\n",
              "      <th>2</th>\n",
              "      <td>0</td>\n",
              "      <td>75</td>\n",
              "    </tr>\n",
              "    <tr>\n",
              "      <th>3</th>\n",
              "      <td>0</td>\n",
              "      <td>81</td>\n",
              "    </tr>\n",
              "    <tr>\n",
              "      <th>4</th>\n",
              "      <td>0</td>\n",
              "      <td>85</td>\n",
              "    </tr>\n",
              "  </tbody>\n",
              "</table>\n",
              "</div>"
            ],
            "text/plain": [
              "   row_pos  column_pos\n",
              "0        0          31\n",
              "1        0          32\n",
              "2        0          75\n",
              "3        0          81\n",
              "4        0          85"
            ]
          },
          "execution_count": 6,
          "metadata": {},
          "output_type": "execute_result"
        }
      ],
      "source": [
        "# Rename the columns.\n",
        "ratings_pos.columns = [\"row_pos\", \"column_pos\"]\n",
        "ratings_pos.head()"
      ]
    },
    {
      "attachments": {},
      "cell_type": "markdown",
      "metadata": {
        "id": "FRRLUhatPqJx"
      },
      "source": [
        "How shall we interpret the `rating_pos` DataFrame?\n",
        "\n",
        "The ratings at the positions [0, 31], [0, 32], [0, 75], [0, 81] etc. from the `users_items` DataFrame are not equal to zero.\n",
        "\n",
        "The value in the column `row_pos` corresponds to the row index in the `users_items` DataFrame, whereas the value in the column `column_pos` corresponds to the column index.\n",
        "\n",
        "Example [0,31]: This corresponds to a nonzero rating from the first user (userID = U1001). This is because this user's data is stored in the first row of the `users_items` DataFrame, with index `0`. The rating was for the restaurant in the column at position 31 (132825)."
      ]
    },
    {
      "cell_type": "code",
      "execution_count": 7,
      "metadata": {
        "id": "rj_m4Cw1PqJy"
      },
      "outputs": [
        {
          "data": {
            "text/html": [
              "<div>\n",
              "<style scoped>\n",
              "    .dataframe tbody tr th:only-of-type {\n",
              "        vertical-align: middle;\n",
              "    }\n",
              "\n",
              "    .dataframe tbody tr th {\n",
              "        vertical-align: top;\n",
              "    }\n",
              "\n",
              "    .dataframe thead th {\n",
              "        text-align: right;\n",
              "    }\n",
              "</style>\n",
              "<table border=\"1\" class=\"dataframe\">\n",
              "  <thead>\n",
              "    <tr style=\"text-align: right;\">\n",
              "      <th>placeID</th>\n",
              "      <th>132825</th>\n",
              "      <th>132830</th>\n",
              "      <th>135025</th>\n",
              "      <th>135033</th>\n",
              "      <th>135039</th>\n",
              "    </tr>\n",
              "    <tr>\n",
              "      <th>userID</th>\n",
              "      <th></th>\n",
              "      <th></th>\n",
              "      <th></th>\n",
              "      <th></th>\n",
              "      <th></th>\n",
              "    </tr>\n",
              "  </thead>\n",
              "  <tbody>\n",
              "    <tr>\n",
              "      <th>U1001</th>\n",
              "      <td>2.0</td>\n",
              "      <td>1.0</td>\n",
              "      <td>2.0</td>\n",
              "      <td>1.0</td>\n",
              "      <td>1.0</td>\n",
              "    </tr>\n",
              "  </tbody>\n",
              "</table>\n",
              "</div>"
            ],
            "text/plain": [
              "placeID  132825  132830  135025  135033  135039\n",
              "userID                                         \n",
              "U1001       2.0     1.0     2.0     1.0     1.0"
            ]
          },
          "execution_count": 7,
          "metadata": {},
          "output_type": "execute_result"
        }
      ],
      "source": [
        "# Get the nonzero ratings from the positions above.\n",
        "users_items.iloc[0:1, [31, 32, 75, 81, 85]]"
      ]
    },
    {
      "attachments": {},
      "cell_type": "markdown",
      "metadata": {
        "id": "UjYKXms2PqJz"
      },
      "source": [
        "Let's find out how many non-zero values are in the `rating_pos` DataFrame. These are the candidates to take part in the train and test split."
      ]
    },
    {
      "cell_type": "code",
      "execution_count": 8,
      "metadata": {
        "id": "IKYZVEv7PqJz"
      },
      "outputs": [
        {
          "data": {
            "text/plain": [
              "907"
            ]
          },
          "execution_count": 8,
          "metadata": {},
          "output_type": "execute_result"
        }
      ],
      "source": [
        "len(ratings_pos)"
      ]
    },
    {
      "attachments": {},
      "cell_type": "markdown",
      "metadata": {
        "id": "45mZ6zqaPqJ0"
      },
      "source": [
        "## 2.2&nbsp;Make the train and test split"
      ]
    },
    {
      "cell_type": "code",
      "execution_count": 9,
      "metadata": {
        "id": "m5o3u0zmqcRT"
      },
      "outputs": [],
      "source": [
        "from sklearn.model_selection import train_test_split"
      ]
    },
    {
      "cell_type": "code",
      "execution_count": 10,
      "metadata": {
        "id": "ZiCDG2yLPqJ0"
      },
      "outputs": [],
      "source": [
        "# Split nonzero ratings into train and test sets.\n",
        "train_pos, test_pos = train_test_split(ratings_pos, \n",
        "                                       random_state=123, \n",
        "                                       test_size=.1)"
      ]
    },
    {
      "attachments": {},
      "cell_type": "markdown",
      "metadata": {
        "id": "joofAKddPqJ1"
      },
      "source": [
        "These values are in the train set..."
      ]
    },
    {
      "cell_type": "code",
      "execution_count": 11,
      "metadata": {
        "id": "6zC7EEcpPqJ1"
      },
      "outputs": [
        {
          "data": {
            "text/html": [
              "<div>\n",
              "<style scoped>\n",
              "    .dataframe tbody tr th:only-of-type {\n",
              "        vertical-align: middle;\n",
              "    }\n",
              "\n",
              "    .dataframe tbody tr th {\n",
              "        vertical-align: top;\n",
              "    }\n",
              "\n",
              "    .dataframe thead th {\n",
              "        text-align: right;\n",
              "    }\n",
              "</style>\n",
              "<table border=\"1\" class=\"dataframe\">\n",
              "  <thead>\n",
              "    <tr style=\"text-align: right;\">\n",
              "      <th></th>\n",
              "      <th>row_pos</th>\n",
              "      <th>column_pos</th>\n",
              "    </tr>\n",
              "  </thead>\n",
              "  <tbody>\n",
              "    <tr>\n",
              "      <th>0</th>\n",
              "      <td>0</td>\n",
              "      <td>31</td>\n",
              "    </tr>\n",
              "    <tr>\n",
              "      <th>1</th>\n",
              "      <td>0</td>\n",
              "      <td>32</td>\n",
              "    </tr>\n",
              "    <tr>\n",
              "      <th>2</th>\n",
              "      <td>0</td>\n",
              "      <td>75</td>\n",
              "    </tr>\n",
              "  </tbody>\n",
              "</table>\n",
              "</div>"
            ],
            "text/plain": [
              "   row_pos  column_pos\n",
              "0        0          31\n",
              "1        0          32\n",
              "2        0          75"
            ]
          },
          "execution_count": 11,
          "metadata": {},
          "output_type": "execute_result"
        }
      ],
      "source": [
        "train_pos.sort_values([\"row_pos\",\"column_pos\"]).head(3)"
      ]
    },
    {
      "attachments": {},
      "cell_type": "markdown",
      "metadata": {
        "id": "9kCb81SZPqJ1"
      },
      "source": [
        "...and these in the test set."
      ]
    },
    {
      "cell_type": "code",
      "execution_count": 12,
      "metadata": {
        "id": "pv_-SGt3PqJ1"
      },
      "outputs": [
        {
          "data": {
            "text/html": [
              "<div>\n",
              "<style scoped>\n",
              "    .dataframe tbody tr th:only-of-type {\n",
              "        vertical-align: middle;\n",
              "    }\n",
              "\n",
              "    .dataframe tbody tr th {\n",
              "        vertical-align: top;\n",
              "    }\n",
              "\n",
              "    .dataframe thead th {\n",
              "        text-align: right;\n",
              "    }\n",
              "</style>\n",
              "<table border=\"1\" class=\"dataframe\">\n",
              "  <thead>\n",
              "    <tr style=\"text-align: right;\">\n",
              "      <th></th>\n",
              "      <th>row_pos</th>\n",
              "      <th>column_pos</th>\n",
              "    </tr>\n",
              "  </thead>\n",
              "  <tbody>\n",
              "    <tr>\n",
              "      <th>4</th>\n",
              "      <td>0</td>\n",
              "      <td>85</td>\n",
              "    </tr>\n",
              "    <tr>\n",
              "      <th>5</th>\n",
              "      <td>0</td>\n",
              "      <td>86</td>\n",
              "    </tr>\n",
              "    <tr>\n",
              "      <th>7</th>\n",
              "      <td>0</td>\n",
              "      <td>97</td>\n",
              "    </tr>\n",
              "  </tbody>\n",
              "</table>\n",
              "</div>"
            ],
            "text/plain": [
              "   row_pos  column_pos\n",
              "4        0          85\n",
              "5        0          86\n",
              "7        0          97"
            ]
          },
          "execution_count": 12,
          "metadata": {},
          "output_type": "execute_result"
        }
      ],
      "source": [
        "test_pos.sort_values([\"row_pos\",\"column_pos\"]).head(3)"
      ]
    },
    {
      "attachments": {},
      "cell_type": "markdown",
      "metadata": {
        "id": "hiTFvfzIPqJ1"
      },
      "source": [
        "Now we have two DataFrames called `train_pos` and `test_pos` which contain the rating positions in the `users_items` DataFrame."
      ]
    },
    {
      "attachments": {},
      "cell_type": "markdown",
      "metadata": {
        "id": "XoWWce68tu9v"
      },
      "source": [
        "##2.3&nbsp;Create the train DataFrame"
      ]
    },
    {
      "attachments": {},
      "cell_type": "markdown",
      "metadata": {
        "id": "l1FCyhYPrsAR"
      },
      "source": [
        "The train and test datasets will both have the same shape as the `users_items`DataFrame. Most of their values will be zero, except for the values in the positions stored inside the `train_pos` set for the train dataset, and the `test_pos`set for the test dataset."
      ]
    },
    {
      "cell_type": "code",
      "execution_count": 13,
      "metadata": {
        "id": "rbrbO_D-etPx"
      },
      "outputs": [],
      "source": [
        "# Create a copy of the users-items DataFrame and set all values to zero.\n",
        "train = users_items.copy()\n",
        "\n",
        "for column in train.columns:\n",
        "  train[column].values[:] = 0"
      ]
    },
    {
      "cell_type": "code",
      "execution_count": 14,
      "metadata": {
        "id": "Ktm0CDd9Lh09"
      },
      "outputs": [
        {
          "data": {
            "text/plain": [
              "0.0"
            ]
          },
          "execution_count": 14,
          "metadata": {},
          "output_type": "execute_result"
        }
      ],
      "source": [
        "# Sum the values in the DataFrame to check that all of them are equal to zero.\n",
        "train.sum().sum()"
      ]
    },
    {
      "cell_type": "code",
      "execution_count": 15,
      "metadata": {
        "id": "zBqMKRnbjuRX"
      },
      "outputs": [],
      "source": [
        "# Iterate over the nonzero positions in the train dataset.\n",
        "# Get the corresponding rating for each nonzero position from the users_items DataFrame.\n",
        "# Insert that value into the newly created DataFrame at the same position.\n",
        "for pos in train_pos.values: \n",
        "    index = pos[0]\n",
        "    col = pos[1]\n",
        "    train.iloc[index, col] = users_items.iloc[index, col]"
      ]
    },
    {
      "cell_type": "code",
      "execution_count": 16,
      "metadata": {
        "id": "7_tjTbU2PqJ2"
      },
      "outputs": [
        {
          "data": {
            "text/html": [
              "<div>\n",
              "<style scoped>\n",
              "    .dataframe tbody tr th:only-of-type {\n",
              "        vertical-align: middle;\n",
              "    }\n",
              "\n",
              "    .dataframe tbody tr th {\n",
              "        vertical-align: top;\n",
              "    }\n",
              "\n",
              "    .dataframe thead th {\n",
              "        text-align: right;\n",
              "    }\n",
              "</style>\n",
              "<table border=\"1\" class=\"dataframe\">\n",
              "  <thead>\n",
              "    <tr style=\"text-align: right;\">\n",
              "      <th>placeID</th>\n",
              "      <th>132560</th>\n",
              "      <th>132561</th>\n",
              "      <th>132564</th>\n",
              "      <th>132572</th>\n",
              "      <th>132583</th>\n",
              "      <th>132584</th>\n",
              "      <th>132594</th>\n",
              "      <th>132608</th>\n",
              "      <th>132609</th>\n",
              "      <th>132613</th>\n",
              "      <th>...</th>\n",
              "      <th>135080</th>\n",
              "      <th>135081</th>\n",
              "      <th>135082</th>\n",
              "      <th>135085</th>\n",
              "      <th>135086</th>\n",
              "      <th>135088</th>\n",
              "      <th>135104</th>\n",
              "      <th>135106</th>\n",
              "      <th>135108</th>\n",
              "      <th>135109</th>\n",
              "    </tr>\n",
              "    <tr>\n",
              "      <th>userID</th>\n",
              "      <th></th>\n",
              "      <th></th>\n",
              "      <th></th>\n",
              "      <th></th>\n",
              "      <th></th>\n",
              "      <th></th>\n",
              "      <th></th>\n",
              "      <th></th>\n",
              "      <th></th>\n",
              "      <th></th>\n",
              "      <th></th>\n",
              "      <th></th>\n",
              "      <th></th>\n",
              "      <th></th>\n",
              "      <th></th>\n",
              "      <th></th>\n",
              "      <th></th>\n",
              "      <th></th>\n",
              "      <th></th>\n",
              "      <th></th>\n",
              "      <th></th>\n",
              "    </tr>\n",
              "  </thead>\n",
              "  <tbody>\n",
              "    <tr>\n",
              "      <th>U1001</th>\n",
              "      <td>0.0</td>\n",
              "      <td>0.0</td>\n",
              "      <td>0.0</td>\n",
              "      <td>0.0</td>\n",
              "      <td>0.0</td>\n",
              "      <td>0.0</td>\n",
              "      <td>0.0</td>\n",
              "      <td>0.0</td>\n",
              "      <td>0.0</td>\n",
              "      <td>0.0</td>\n",
              "      <td>...</td>\n",
              "      <td>0.0</td>\n",
              "      <td>0.0</td>\n",
              "      <td>0.0</td>\n",
              "      <td>0.0</td>\n",
              "      <td>0.0</td>\n",
              "      <td>0.0</td>\n",
              "      <td>0.0</td>\n",
              "      <td>0.0</td>\n",
              "      <td>0.0</td>\n",
              "      <td>0.0</td>\n",
              "    </tr>\n",
              "    <tr>\n",
              "      <th>U1002</th>\n",
              "      <td>0.0</td>\n",
              "      <td>0.0</td>\n",
              "      <td>0.0</td>\n",
              "      <td>0.0</td>\n",
              "      <td>0.0</td>\n",
              "      <td>0.0</td>\n",
              "      <td>0.0</td>\n",
              "      <td>0.0</td>\n",
              "      <td>0.0</td>\n",
              "      <td>0.0</td>\n",
              "      <td>...</td>\n",
              "      <td>0.0</td>\n",
              "      <td>0.0</td>\n",
              "      <td>0.0</td>\n",
              "      <td>1.0</td>\n",
              "      <td>0.0</td>\n",
              "      <td>0.0</td>\n",
              "      <td>0.0</td>\n",
              "      <td>1.0</td>\n",
              "      <td>0.0</td>\n",
              "      <td>0.0</td>\n",
              "    </tr>\n",
              "    <tr>\n",
              "      <th>U1003</th>\n",
              "      <td>0.0</td>\n",
              "      <td>0.0</td>\n",
              "      <td>0.0</td>\n",
              "      <td>0.0</td>\n",
              "      <td>0.0</td>\n",
              "      <td>0.0</td>\n",
              "      <td>0.0</td>\n",
              "      <td>0.0</td>\n",
              "      <td>0.0</td>\n",
              "      <td>0.0</td>\n",
              "      <td>...</td>\n",
              "      <td>2.0</td>\n",
              "      <td>0.0</td>\n",
              "      <td>0.0</td>\n",
              "      <td>0.0</td>\n",
              "      <td>0.0</td>\n",
              "      <td>0.0</td>\n",
              "      <td>0.0</td>\n",
              "      <td>0.0</td>\n",
              "      <td>0.0</td>\n",
              "      <td>0.0</td>\n",
              "    </tr>\n",
              "    <tr>\n",
              "      <th>U1004</th>\n",
              "      <td>0.0</td>\n",
              "      <td>0.0</td>\n",
              "      <td>0.0</td>\n",
              "      <td>0.0</td>\n",
              "      <td>0.0</td>\n",
              "      <td>0.0</td>\n",
              "      <td>0.0</td>\n",
              "      <td>0.0</td>\n",
              "      <td>0.0</td>\n",
              "      <td>0.0</td>\n",
              "      <td>...</td>\n",
              "      <td>0.0</td>\n",
              "      <td>0.0</td>\n",
              "      <td>0.0</td>\n",
              "      <td>0.0</td>\n",
              "      <td>0.0</td>\n",
              "      <td>0.0</td>\n",
              "      <td>0.0</td>\n",
              "      <td>2.0</td>\n",
              "      <td>0.0</td>\n",
              "      <td>0.0</td>\n",
              "    </tr>\n",
              "    <tr>\n",
              "      <th>U1005</th>\n",
              "      <td>0.0</td>\n",
              "      <td>0.0</td>\n",
              "      <td>0.0</td>\n",
              "      <td>0.0</td>\n",
              "      <td>0.0</td>\n",
              "      <td>0.0</td>\n",
              "      <td>0.0</td>\n",
              "      <td>0.0</td>\n",
              "      <td>0.0</td>\n",
              "      <td>0.0</td>\n",
              "      <td>...</td>\n",
              "      <td>0.0</td>\n",
              "      <td>0.0</td>\n",
              "      <td>0.0</td>\n",
              "      <td>0.0</td>\n",
              "      <td>0.0</td>\n",
              "      <td>0.0</td>\n",
              "      <td>0.0</td>\n",
              "      <td>0.0</td>\n",
              "      <td>0.0</td>\n",
              "      <td>0.0</td>\n",
              "    </tr>\n",
              "  </tbody>\n",
              "</table>\n",
              "<p>5 rows × 130 columns</p>\n",
              "</div>"
            ],
            "text/plain": [
              "placeID  132560  132561  132564  132572  132583  132584  132594  132608  \\\n",
              "userID                                                                    \n",
              "U1001       0.0     0.0     0.0     0.0     0.0     0.0     0.0     0.0   \n",
              "U1002       0.0     0.0     0.0     0.0     0.0     0.0     0.0     0.0   \n",
              "U1003       0.0     0.0     0.0     0.0     0.0     0.0     0.0     0.0   \n",
              "U1004       0.0     0.0     0.0     0.0     0.0     0.0     0.0     0.0   \n",
              "U1005       0.0     0.0     0.0     0.0     0.0     0.0     0.0     0.0   \n",
              "\n",
              "placeID  132609  132613  ...  135080  135081  135082  135085  135086  135088  \\\n",
              "userID                   ...                                                   \n",
              "U1001       0.0     0.0  ...     0.0     0.0     0.0     0.0     0.0     0.0   \n",
              "U1002       0.0     0.0  ...     0.0     0.0     0.0     1.0     0.0     0.0   \n",
              "U1003       0.0     0.0  ...     2.0     0.0     0.0     0.0     0.0     0.0   \n",
              "U1004       0.0     0.0  ...     0.0     0.0     0.0     0.0     0.0     0.0   \n",
              "U1005       0.0     0.0  ...     0.0     0.0     0.0     0.0     0.0     0.0   \n",
              "\n",
              "placeID  135104  135106  135108  135109  \n",
              "userID                                   \n",
              "U1001       0.0     0.0     0.0     0.0  \n",
              "U1002       0.0     1.0     0.0     0.0  \n",
              "U1003       0.0     0.0     0.0     0.0  \n",
              "U1004       0.0     2.0     0.0     0.0  \n",
              "U1005       0.0     0.0     0.0     0.0  \n",
              "\n",
              "[5 rows x 130 columns]"
            ]
          },
          "execution_count": 16,
          "metadata": {},
          "output_type": "execute_result"
        }
      ],
      "source": [
        "train.head()"
      ]
    },
    {
      "attachments": {},
      "cell_type": "markdown",
      "metadata": {
        "id": "foYI-bIKZefF"
      },
      "source": [
        "How many ratings from our user `U1001` fell into the train set?"
      ]
    },
    {
      "cell_type": "code",
      "execution_count": 17,
      "metadata": {
        "id": "IEHKq44uZdX3"
      },
      "outputs": [
        {
          "data": {
            "text/html": [
              "<div>\n",
              "<style scoped>\n",
              "    .dataframe tbody tr th:only-of-type {\n",
              "        vertical-align: middle;\n",
              "    }\n",
              "\n",
              "    .dataframe tbody tr th {\n",
              "        vertical-align: top;\n",
              "    }\n",
              "\n",
              "    .dataframe thead th {\n",
              "        text-align: right;\n",
              "    }\n",
              "</style>\n",
              "<table border=\"1\" class=\"dataframe\">\n",
              "  <thead>\n",
              "    <tr style=\"text-align: right;\">\n",
              "      <th>placeID</th>\n",
              "      <th>132825</th>\n",
              "      <th>132830</th>\n",
              "      <th>135025</th>\n",
              "      <th>135033</th>\n",
              "      <th>135039</th>\n",
              "    </tr>\n",
              "    <tr>\n",
              "      <th>userID</th>\n",
              "      <th></th>\n",
              "      <th></th>\n",
              "      <th></th>\n",
              "      <th></th>\n",
              "      <th></th>\n",
              "    </tr>\n",
              "  </thead>\n",
              "  <tbody>\n",
              "    <tr>\n",
              "      <th>U1001</th>\n",
              "      <td>2.0</td>\n",
              "      <td>1.0</td>\n",
              "      <td>2.0</td>\n",
              "      <td>1.0</td>\n",
              "      <td>0.0</td>\n",
              "    </tr>\n",
              "  </tbody>\n",
              "</table>\n",
              "</div>"
            ],
            "text/plain": [
              "placeID  132825  132830  135025  135033  135039\n",
              "userID                                         \n",
              "U1001       2.0     1.0     2.0     1.0     0.0"
            ]
          },
          "execution_count": 17,
          "metadata": {},
          "output_type": "execute_result"
        }
      ],
      "source": [
        "train.iloc[0:1, [31, 32, 75, 81, 85]]"
      ]
    },
    {
      "attachments": {},
      "cell_type": "markdown",
      "metadata": {
        "id": "CESUTLtArAWJ"
      },
      "source": [
        "## 2.4&nbsp;Create the test DataFrame"
      ]
    },
    {
      "attachments": {},
      "cell_type": "markdown",
      "metadata": {
        "id": "zdeRKvIyZUZP"
      },
      "source": [
        "Now it is time for the test set. We will follow the same process."
      ]
    },
    {
      "cell_type": "code",
      "execution_count": 18,
      "metadata": {
        "id": "nKbYaEuMPqJ3"
      },
      "outputs": [],
      "source": [
        "# Create a copy of the users-items DataFrame and set all values to zero.\n",
        "test = users_items.copy()\n",
        "\n",
        "# Iterate over the nonzero positions in the test dataset.\n",
        "# Get the corresponding rating for each nonzero position from the users_items DataFrame.\n",
        "# Insert that value in the newly created DataFrame at the same position.\n",
        "for column in test.columns:\n",
        "  test[column].values[:] = 0\n",
        "\n",
        "for pos in test_pos.values: \n",
        "    index = pos[0]\n",
        "    col = pos[1]\n",
        "    test.iloc[index, col] = users_items.iloc[index, col]"
      ]
    },
    {
      "attachments": {},
      "cell_type": "markdown",
      "metadata": {
        "id": "s784V4rcPqJ4"
      },
      "source": [
        "How many ratings from our user `U1001` fell into the test set?"
      ]
    },
    {
      "cell_type": "code",
      "execution_count": 19,
      "metadata": {
        "id": "GX95-2fAPqJ4"
      },
      "outputs": [
        {
          "data": {
            "text/html": [
              "<div>\n",
              "<style scoped>\n",
              "    .dataframe tbody tr th:only-of-type {\n",
              "        vertical-align: middle;\n",
              "    }\n",
              "\n",
              "    .dataframe tbody tr th {\n",
              "        vertical-align: top;\n",
              "    }\n",
              "\n",
              "    .dataframe thead th {\n",
              "        text-align: right;\n",
              "    }\n",
              "</style>\n",
              "<table border=\"1\" class=\"dataframe\">\n",
              "  <thead>\n",
              "    <tr style=\"text-align: right;\">\n",
              "      <th>placeID</th>\n",
              "      <th>132825</th>\n",
              "      <th>132830</th>\n",
              "      <th>135025</th>\n",
              "      <th>135033</th>\n",
              "      <th>135039</th>\n",
              "    </tr>\n",
              "    <tr>\n",
              "      <th>userID</th>\n",
              "      <th></th>\n",
              "      <th></th>\n",
              "      <th></th>\n",
              "      <th></th>\n",
              "      <th></th>\n",
              "    </tr>\n",
              "  </thead>\n",
              "  <tbody>\n",
              "    <tr>\n",
              "      <th>U1001</th>\n",
              "      <td>0.0</td>\n",
              "      <td>0.0</td>\n",
              "      <td>0.0</td>\n",
              "      <td>0.0</td>\n",
              "      <td>1.0</td>\n",
              "    </tr>\n",
              "  </tbody>\n",
              "</table>\n",
              "</div>"
            ],
            "text/plain": [
              "placeID  132825  132830  135025  135033  135039\n",
              "userID                                         \n",
              "U1001       0.0     0.0     0.0     0.0     1.0"
            ]
          },
          "execution_count": 19,
          "metadata": {},
          "output_type": "execute_result"
        }
      ],
      "source": [
        "test.iloc[0:1, [31, 32, 75, 81, 85]]"
      ]
    },
    {
      "attachments": {},
      "cell_type": "markdown",
      "metadata": {
        "id": "_eGwGkgBPqJ4"
      },
      "source": [
        "We can build a compact DataFrame to store the positions of all the places in the test set and their true rating."
      ]
    },
    {
      "cell_type": "code",
      "execution_count": 20,
      "metadata": {
        "id": "iZ-LFxDLNLff"
      },
      "outputs": [],
      "source": [
        "true_test_ratings = []\n",
        "\n",
        "# Iterate over rows and get the values in the two columns (= positions in users_items).\n",
        "# Use positions to get ratings and store them in the true_test_ratings list.\n",
        "for index, row in test_pos.iterrows():\n",
        "  true_test_ratings.append(users_items.iloc[row[0], row[1]])"
      ]
    },
    {
      "cell_type": "code",
      "execution_count": 21,
      "metadata": {
        "id": "lSdgf_xuPqJ6"
      },
      "outputs": [],
      "source": [
        "# Add ratings as new column.\n",
        "test_pos = test_pos.assign(true_rating = true_test_ratings)"
      ]
    },
    {
      "cell_type": "code",
      "execution_count": 22,
      "metadata": {
        "id": "J0KnBUw_PqJ6"
      },
      "outputs": [
        {
          "data": {
            "text/html": [
              "<div>\n",
              "<style scoped>\n",
              "    .dataframe tbody tr th:only-of-type {\n",
              "        vertical-align: middle;\n",
              "    }\n",
              "\n",
              "    .dataframe tbody tr th {\n",
              "        vertical-align: top;\n",
              "    }\n",
              "\n",
              "    .dataframe thead th {\n",
              "        text-align: right;\n",
              "    }\n",
              "</style>\n",
              "<table border=\"1\" class=\"dataframe\">\n",
              "  <thead>\n",
              "    <tr style=\"text-align: right;\">\n",
              "      <th></th>\n",
              "      <th>row_pos</th>\n",
              "      <th>column_pos</th>\n",
              "      <th>true_rating</th>\n",
              "    </tr>\n",
              "  </thead>\n",
              "  <tbody>\n",
              "    <tr>\n",
              "      <th>646</th>\n",
              "      <td>97</td>\n",
              "      <td>80</td>\n",
              "      <td>2.0</td>\n",
              "    </tr>\n",
              "    <tr>\n",
              "      <th>384</th>\n",
              "      <td>57</td>\n",
              "      <td>103</td>\n",
              "      <td>2.0</td>\n",
              "    </tr>\n",
              "    <tr>\n",
              "      <th>553</th>\n",
              "      <td>86</td>\n",
              "      <td>24</td>\n",
              "      <td>1.0</td>\n",
              "    </tr>\n",
              "    <tr>\n",
              "      <th>643</th>\n",
              "      <td>97</td>\n",
              "      <td>42</td>\n",
              "      <td>1.0</td>\n",
              "    </tr>\n",
              "    <tr>\n",
              "      <th>498</th>\n",
              "      <td>78</td>\n",
              "      <td>60</td>\n",
              "      <td>1.0</td>\n",
              "    </tr>\n",
              "  </tbody>\n",
              "</table>\n",
              "</div>"
            ],
            "text/plain": [
              "     row_pos  column_pos  true_rating\n",
              "646       97          80          2.0\n",
              "384       57         103          2.0\n",
              "553       86          24          1.0\n",
              "643       97          42          1.0\n",
              "498       78          60          1.0"
            ]
          },
          "execution_count": 22,
          "metadata": {},
          "output_type": "execute_result"
        }
      ],
      "source": [
        "test_pos.head()"
      ]
    },
    {
      "attachments": {},
      "cell_type": "markdown",
      "metadata": {
        "id": "HgYCnTD8PqJ6"
      },
      "source": [
        "## 2.5&nbsp;Create the similarity matrix for the train set"
      ]
    },
    {
      "cell_type": "code",
      "execution_count": 23,
      "metadata": {
        "id": "fy-wjprnoa_E"
      },
      "outputs": [],
      "source": [
        "from sklearn.metrics.pairwise import cosine_similarity"
      ]
    },
    {
      "cell_type": "code",
      "execution_count": 24,
      "metadata": {
        "id": "cz0zSQtKPqJ6"
      },
      "outputs": [
        {
          "data": {
            "text/html": [
              "<div>\n",
              "<style scoped>\n",
              "    .dataframe tbody tr th:only-of-type {\n",
              "        vertical-align: middle;\n",
              "    }\n",
              "\n",
              "    .dataframe tbody tr th {\n",
              "        vertical-align: top;\n",
              "    }\n",
              "\n",
              "    .dataframe thead th {\n",
              "        text-align: right;\n",
              "    }\n",
              "</style>\n",
              "<table border=\"1\" class=\"dataframe\">\n",
              "  <thead>\n",
              "    <tr style=\"text-align: right;\">\n",
              "      <th>userID</th>\n",
              "      <th>U1001</th>\n",
              "      <th>U1002</th>\n",
              "      <th>U1003</th>\n",
              "      <th>U1004</th>\n",
              "      <th>U1005</th>\n",
              "      <th>U1006</th>\n",
              "      <th>U1007</th>\n",
              "      <th>U1008</th>\n",
              "      <th>U1009</th>\n",
              "      <th>U1010</th>\n",
              "      <th>...</th>\n",
              "      <th>U1129</th>\n",
              "      <th>U1130</th>\n",
              "      <th>U1131</th>\n",
              "      <th>U1132</th>\n",
              "      <th>U1133</th>\n",
              "      <th>U1134</th>\n",
              "      <th>U1135</th>\n",
              "      <th>U1136</th>\n",
              "      <th>U1137</th>\n",
              "      <th>U1138</th>\n",
              "    </tr>\n",
              "    <tr>\n",
              "      <th>userID</th>\n",
              "      <th></th>\n",
              "      <th></th>\n",
              "      <th></th>\n",
              "      <th></th>\n",
              "      <th></th>\n",
              "      <th></th>\n",
              "      <th></th>\n",
              "      <th></th>\n",
              "      <th></th>\n",
              "      <th></th>\n",
              "      <th></th>\n",
              "      <th></th>\n",
              "      <th></th>\n",
              "      <th></th>\n",
              "      <th></th>\n",
              "      <th></th>\n",
              "      <th></th>\n",
              "      <th></th>\n",
              "      <th></th>\n",
              "      <th></th>\n",
              "      <th></th>\n",
              "    </tr>\n",
              "  </thead>\n",
              "  <tbody>\n",
              "    <tr>\n",
              "      <th>U1001</th>\n",
              "      <td>1.000000</td>\n",
              "      <td>0.257130</td>\n",
              "      <td>0.188353</td>\n",
              "      <td>0.00000</td>\n",
              "      <td>0.069171</td>\n",
              "      <td>0.146254</td>\n",
              "      <td>0.213201</td>\n",
              "      <td>0.0</td>\n",
              "      <td>0.120605</td>\n",
              "      <td>0.0</td>\n",
              "      <td>...</td>\n",
              "      <td>0.0</td>\n",
              "      <td>0.0</td>\n",
              "      <td>0.0</td>\n",
              "      <td>0.354787</td>\n",
              "      <td>0.0</td>\n",
              "      <td>0.099136</td>\n",
              "      <td>0.0</td>\n",
              "      <td>0.000000</td>\n",
              "      <td>0.167248</td>\n",
              "      <td>0.000000</td>\n",
              "    </tr>\n",
              "    <tr>\n",
              "      <th>U1002</th>\n",
              "      <td>0.257130</td>\n",
              "      <td>1.000000</td>\n",
              "      <td>0.266371</td>\n",
              "      <td>0.08528</td>\n",
              "      <td>0.097823</td>\n",
              "      <td>0.103418</td>\n",
              "      <td>0.075378</td>\n",
              "      <td>0.0</td>\n",
              "      <td>0.426401</td>\n",
              "      <td>0.0</td>\n",
              "      <td>...</td>\n",
              "      <td>0.0</td>\n",
              "      <td>0.0</td>\n",
              "      <td>0.0</td>\n",
              "      <td>0.418121</td>\n",
              "      <td>0.0</td>\n",
              "      <td>0.210300</td>\n",
              "      <td>0.0</td>\n",
              "      <td>0.322329</td>\n",
              "      <td>0.413919</td>\n",
              "      <td>0.355335</td>\n",
              "    </tr>\n",
              "    <tr>\n",
              "      <th>U1003</th>\n",
              "      <td>0.188353</td>\n",
              "      <td>0.266371</td>\n",
              "      <td>1.000000</td>\n",
              "      <td>0.00000</td>\n",
              "      <td>0.000000</td>\n",
              "      <td>0.378777</td>\n",
              "      <td>0.000000</td>\n",
              "      <td>0.0</td>\n",
              "      <td>0.374817</td>\n",
              "      <td>0.0</td>\n",
              "      <td>...</td>\n",
              "      <td>0.0</td>\n",
              "      <td>0.0</td>\n",
              "      <td>0.0</td>\n",
              "      <td>0.122513</td>\n",
              "      <td>0.0</td>\n",
              "      <td>0.462147</td>\n",
              "      <td>0.0</td>\n",
              "      <td>0.059028</td>\n",
              "      <td>0.476463</td>\n",
              "      <td>0.208232</td>\n",
              "    </tr>\n",
              "  </tbody>\n",
              "</table>\n",
              "<p>3 rows × 138 columns</p>\n",
              "</div>"
            ],
            "text/plain": [
              "userID     U1001     U1002     U1003    U1004     U1005     U1006     U1007  \\\n",
              "userID                                                                        \n",
              "U1001   1.000000  0.257130  0.188353  0.00000  0.069171  0.146254  0.213201   \n",
              "U1002   0.257130  1.000000  0.266371  0.08528  0.097823  0.103418  0.075378   \n",
              "U1003   0.188353  0.266371  1.000000  0.00000  0.000000  0.378777  0.000000   \n",
              "\n",
              "userID  U1008     U1009  U1010  ...  U1129  U1130  U1131     U1132  U1133  \\\n",
              "userID                          ...                                         \n",
              "U1001     0.0  0.120605    0.0  ...    0.0    0.0    0.0  0.354787    0.0   \n",
              "U1002     0.0  0.426401    0.0  ...    0.0    0.0    0.0  0.418121    0.0   \n",
              "U1003     0.0  0.374817    0.0  ...    0.0    0.0    0.0  0.122513    0.0   \n",
              "\n",
              "userID     U1134  U1135     U1136     U1137     U1138  \n",
              "userID                                                 \n",
              "U1001   0.099136    0.0  0.000000  0.167248  0.000000  \n",
              "U1002   0.210300    0.0  0.322329  0.413919  0.355335  \n",
              "U1003   0.462147    0.0  0.059028  0.476463  0.208232  \n",
              "\n",
              "[3 rows x 138 columns]"
            ]
          },
          "execution_count": 24,
          "metadata": {},
          "output_type": "execute_result"
        }
      ],
      "source": [
        "# Get cosine similarities for the train dataset.\n",
        "train_similarity = pd.DataFrame(cosine_similarity(train), \n",
        "                                columns=train.index, \n",
        "                                index=train.index)\n",
        "train_similarity.head(3)"
      ]
    },
    {
      "attachments": {},
      "cell_type": "markdown",
      "metadata": {
        "id": "-VC5LNFxPqJ6"
      },
      "source": [
        "## 2.6&nbsp;Predict rating for an individual value in the test set"
      ]
    },
    {
      "attachments": {},
      "cell_type": "markdown",
      "metadata": {
        "id": "p9QePsjsQw56"
      },
      "source": [
        "We will look at the rating that user `U1001` gave to restaurant `placeID=135039` - the data value in position [0, 85] that went into the test dataset.\n",
        "\n",
        "Using only the ratings from the train set and the similarity matrix computed from it, we will predict this value. "
      ]
    },
    {
      "cell_type": "code",
      "execution_count": 25,
      "metadata": {
        "id": "vLQNTIRPPqJ7"
      },
      "outputs": [
        {
          "data": {
            "text/html": [
              "<div>\n",
              "<style scoped>\n",
              "    .dataframe tbody tr th:only-of-type {\n",
              "        vertical-align: middle;\n",
              "    }\n",
              "\n",
              "    .dataframe tbody tr th {\n",
              "        vertical-align: top;\n",
              "    }\n",
              "\n",
              "    .dataframe thead th {\n",
              "        text-align: right;\n",
              "    }\n",
              "</style>\n",
              "<table border=\"1\" class=\"dataframe\">\n",
              "  <thead>\n",
              "    <tr style=\"text-align: right;\">\n",
              "      <th></th>\n",
              "      <th>ratings</th>\n",
              "      <th>similarities</th>\n",
              "    </tr>\n",
              "    <tr>\n",
              "      <th>userID</th>\n",
              "      <th></th>\n",
              "      <th></th>\n",
              "    </tr>\n",
              "  </thead>\n",
              "  <tbody>\n",
              "    <tr>\n",
              "      <th>U1001</th>\n",
              "      <td>0.0</td>\n",
              "      <td>1.000000</td>\n",
              "    </tr>\n",
              "    <tr>\n",
              "      <th>U1002</th>\n",
              "      <td>0.0</td>\n",
              "      <td>0.257130</td>\n",
              "    </tr>\n",
              "    <tr>\n",
              "      <th>U1003</th>\n",
              "      <td>0.0</td>\n",
              "      <td>0.188353</td>\n",
              "    </tr>\n",
              "    <tr>\n",
              "      <th>U1004</th>\n",
              "      <td>0.0</td>\n",
              "      <td>0.000000</td>\n",
              "    </tr>\n",
              "    <tr>\n",
              "      <th>U1005</th>\n",
              "      <td>0.0</td>\n",
              "      <td>0.069171</td>\n",
              "    </tr>\n",
              "  </tbody>\n",
              "</table>\n",
              "</div>"
            ],
            "text/plain": [
              "        ratings  similarities\n",
              "userID                       \n",
              "U1001       0.0      1.000000\n",
              "U1002       0.0      0.257130\n",
              "U1003       0.0      0.188353\n",
              "U1004       0.0      0.000000\n",
              "U1005       0.0      0.069171"
            ]
          },
          "execution_count": 25,
          "metadata": {},
          "output_type": "execute_result"
        }
      ],
      "source": [
        "# Get the ratings for restaurant 135039 and the similarities of user U1001.\n",
        "# Combine them in a DataFrame.\n",
        "results = (\n",
        "    pd.DataFrame({\n",
        "        'ratings': train.loc[:,135039], \n",
        "        'similarities' : train_similarity.loc[\"U1001\",:]\n",
        "    })\n",
        ")\n",
        "results.head()"
      ]
    },
    {
      "attachments": {},
      "cell_type": "markdown",
      "metadata": {
        "id": "MT14Y3rBPqJ7"
      },
      "source": [
        "As always, we compute the weights using the similarities."
      ]
    },
    {
      "cell_type": "code",
      "execution_count": 26,
      "metadata": {
        "id": "N6BX3hbKPqJ7"
      },
      "outputs": [],
      "source": [
        "# Calculate similarities and add them in a new column \"weights\".\n",
        "results = results.assign(weights = results[\"similarities\"] / (sum(results[\"similarities\"])-1))"
      ]
    },
    {
      "cell_type": "code",
      "execution_count": 27,
      "metadata": {
        "id": "OLir3TLYPqJ7"
      },
      "outputs": [
        {
          "data": {
            "text/html": [
              "<div>\n",
              "<style scoped>\n",
              "    .dataframe tbody tr th:only-of-type {\n",
              "        vertical-align: middle;\n",
              "    }\n",
              "\n",
              "    .dataframe tbody tr th {\n",
              "        vertical-align: top;\n",
              "    }\n",
              "\n",
              "    .dataframe thead th {\n",
              "        text-align: right;\n",
              "    }\n",
              "</style>\n",
              "<table border=\"1\" class=\"dataframe\">\n",
              "  <thead>\n",
              "    <tr style=\"text-align: right;\">\n",
              "      <th></th>\n",
              "      <th>ratings</th>\n",
              "      <th>similarities</th>\n",
              "      <th>weights</th>\n",
              "    </tr>\n",
              "    <tr>\n",
              "      <th>userID</th>\n",
              "      <th></th>\n",
              "      <th></th>\n",
              "      <th></th>\n",
              "    </tr>\n",
              "  </thead>\n",
              "  <tbody>\n",
              "    <tr>\n",
              "      <th>U1001</th>\n",
              "      <td>0.0</td>\n",
              "      <td>1.000000</td>\n",
              "      <td>0.116493</td>\n",
              "    </tr>\n",
              "    <tr>\n",
              "      <th>U1002</th>\n",
              "      <td>0.0</td>\n",
              "      <td>0.257130</td>\n",
              "      <td>0.029954</td>\n",
              "    </tr>\n",
              "    <tr>\n",
              "      <th>U1003</th>\n",
              "      <td>0.0</td>\n",
              "      <td>0.188353</td>\n",
              "      <td>0.021942</td>\n",
              "    </tr>\n",
              "  </tbody>\n",
              "</table>\n",
              "</div>"
            ],
            "text/plain": [
              "        ratings  similarities   weights\n",
              "userID                                 \n",
              "U1001       0.0      1.000000  0.116493\n",
              "U1002       0.0      0.257130  0.029954\n",
              "U1003       0.0      0.188353  0.021942"
            ]
          },
          "execution_count": 27,
          "metadata": {},
          "output_type": "execute_result"
        }
      ],
      "source": [
        "results.head(3)"
      ]
    },
    {
      "attachments": {},
      "cell_type": "markdown",
      "metadata": {
        "id": "Cd-1NPAWPqJ7"
      },
      "source": [
        "Then we weigh the rating that each user gave to that restaurant using each user's weight."
      ]
    },
    {
      "cell_type": "code",
      "execution_count": 28,
      "metadata": {
        "id": "GJqNj2cRPqJ8"
      },
      "outputs": [
        {
          "data": {
            "text/html": [
              "<div>\n",
              "<style scoped>\n",
              "    .dataframe tbody tr th:only-of-type {\n",
              "        vertical-align: middle;\n",
              "    }\n",
              "\n",
              "    .dataframe tbody tr th {\n",
              "        vertical-align: top;\n",
              "    }\n",
              "\n",
              "    .dataframe thead th {\n",
              "        text-align: right;\n",
              "    }\n",
              "</style>\n",
              "<table border=\"1\" class=\"dataframe\">\n",
              "  <thead>\n",
              "    <tr style=\"text-align: right;\">\n",
              "      <th></th>\n",
              "      <th>ratings</th>\n",
              "      <th>similarities</th>\n",
              "      <th>weights</th>\n",
              "      <th>weighted_ratings</th>\n",
              "    </tr>\n",
              "    <tr>\n",
              "      <th>userID</th>\n",
              "      <th></th>\n",
              "      <th></th>\n",
              "      <th></th>\n",
              "      <th></th>\n",
              "    </tr>\n",
              "  </thead>\n",
              "  <tbody>\n",
              "    <tr>\n",
              "      <th>U1001</th>\n",
              "      <td>0.0</td>\n",
              "      <td>1.000000</td>\n",
              "      <td>0.116493</td>\n",
              "      <td>0.0</td>\n",
              "    </tr>\n",
              "    <tr>\n",
              "      <th>U1002</th>\n",
              "      <td>0.0</td>\n",
              "      <td>0.257130</td>\n",
              "      <td>0.029954</td>\n",
              "      <td>0.0</td>\n",
              "    </tr>\n",
              "    <tr>\n",
              "      <th>U1003</th>\n",
              "      <td>0.0</td>\n",
              "      <td>0.188353</td>\n",
              "      <td>0.021942</td>\n",
              "      <td>0.0</td>\n",
              "    </tr>\n",
              "  </tbody>\n",
              "</table>\n",
              "</div>"
            ],
            "text/plain": [
              "        ratings  similarities   weights  weighted_ratings\n",
              "userID                                                   \n",
              "U1001       0.0      1.000000  0.116493               0.0\n",
              "U1002       0.0      0.257130  0.029954               0.0\n",
              "U1003       0.0      0.188353  0.021942               0.0"
            ]
          },
          "execution_count": 28,
          "metadata": {},
          "output_type": "execute_result"
        }
      ],
      "source": [
        "results = results.assign(weighted_ratings = results[\"ratings\"] * results[\"weights\"])\n",
        "results.head(3)"
      ]
    },
    {
      "attachments": {},
      "cell_type": "markdown",
      "metadata": {
        "id": "xPq3h2MgPqJ8"
      },
      "source": [
        "Finally, we get the predicted rating for user U1001 for the restaurant `135039` by adding up all the weighted ratings."
      ]
    },
    {
      "cell_type": "code",
      "execution_count": 29,
      "metadata": {
        "id": "VI5Ey183PqJ8"
      },
      "outputs": [
        {
          "data": {
            "text/plain": [
              "0.17360625035091493"
            ]
          },
          "execution_count": 29,
          "metadata": {},
          "output_type": "execute_result"
        }
      ],
      "source": [
        "pred_rating = results[\"weighted_ratings\"].sum()\n",
        "pred_rating"
      ]
    },
    {
      "attachments": {},
      "cell_type": "markdown",
      "metadata": {
        "id": "oEaEbQ2OPqJ8"
      },
      "source": [
        "Let's have a look at the real rating that user U1001 gace to restaurant `135039`."
      ]
    },
    {
      "cell_type": "code",
      "execution_count": 30,
      "metadata": {
        "id": "FMUXjlDLPqJ8"
      },
      "outputs": [
        {
          "data": {
            "text/plain": [
              "1.0"
            ]
          },
          "execution_count": 30,
          "metadata": {},
          "output_type": "execute_result"
        }
      ],
      "source": [
        "true_rating = users_items.loc[\"U1001\", 135039]\n",
        "true_rating"
      ]
    },
    {
      "attachments": {},
      "cell_type": "markdown",
      "metadata": {
        "id": "C6Iy-MuvPqJ8"
      },
      "source": [
        "The difference between the prediction and the true value is the error."
      ]
    },
    {
      "cell_type": "code",
      "execution_count": 31,
      "metadata": {
        "id": "ASbgJSN5PqJ8"
      },
      "outputs": [
        {
          "data": {
            "text/plain": [
              "0.8263937496490851"
            ]
          },
          "execution_count": 31,
          "metadata": {},
          "output_type": "execute_result"
        }
      ],
      "source": [
        "error = true_rating - pred_rating\n",
        "error"
      ]
    },
    {
      "attachments": {},
      "cell_type": "markdown",
      "metadata": {
        "id": "Wtvixyf_PqJ9"
      },
      "source": [
        "# 3.&nbsp;Compute all recommendations for the test set"
      ]
    },
    {
      "attachments": {},
      "cell_type": "markdown",
      "metadata": {
        "id": "D0QmKmjxPqJ9"
      },
      "source": [
        "Now we need to predict the rating for all the restaurants in the test set, and compute the performance metrics."
      ]
    },
    {
      "attachments": {},
      "cell_type": "markdown",
      "metadata": {
        "id": "5H8J-Ep6b1YC"
      },
      "source": [
        "## 3.1&nbsp;Create a function to get predictions for individual values"
      ]
    },
    {
      "attachments": {},
      "cell_type": "markdown",
      "metadata": {
        "id": "U2tXowdJPqJ9"
      },
      "source": [
        "We will build a function that computes the ratings for a single user and a single restaurant, taking an index and a column position as input. To do so, we will use the code from above when we predicted the rating of user U1001 for restaurant `135039`."
      ]
    },
    {
      "cell_type": "code",
      "execution_count": 32,
      "metadata": {
        "id": "EpC3-ZR5PqJ9"
      },
      "outputs": [],
      "source": [
        "def recommender(index_pos, column_pos): \n",
        "    # Build a DataFrame with the ratings for one restaurant (column_pos) and\n",
        "    # the similarities to one user (index_pos).\n",
        "    results = (\n",
        "      pd.DataFrame({\n",
        "          'ratings': train.iloc[:,column_pos], \n",
        "          'similarities' : train_similarity.iloc[index_pos,:]\n",
        "          })\n",
        "      )\n",
        "    \n",
        "    # Compute the weights.\n",
        "    results = results.assign(weights = results[\"similarities\"] / (sum(results[\"similarities\"]) -1))\n",
        "    \n",
        "    # Compute the weighted ratings.\n",
        "    results = results.assign(weighted_ratings = results[\"ratings\"] * results[\"weights\"])\n",
        "    \n",
        "    # Compute the rating prediction for one user and one restaurant.\n",
        "    prediction = results[\"weighted_ratings\"].sum()\n",
        "\n",
        "    return prediction"
      ]
    },
    {
      "cell_type": "code",
      "execution_count": 33,
      "metadata": {
        "id": "4HqA5ST4PqJ9"
      },
      "outputs": [
        {
          "data": {
            "text/plain": [
              "0.17360625035091493"
            ]
          },
          "execution_count": 33,
          "metadata": {},
          "output_type": "execute_result"
        }
      ],
      "source": [
        "# Run function for user U1001 and restaurant 135039.\n",
        "recommender(0, 85)"
      ]
    },
    {
      "attachments": {},
      "cell_type": "markdown",
      "metadata": {
        "id": "eim-2NLjdSAf"
      },
      "source": [
        "## 3.2&nbsp;Apply function to all values in the test set"
      ]
    },
    {
      "attachments": {},
      "cell_type": "markdown",
      "metadata": {
        "id": "xQ7c5WGLdcpU"
      },
      "source": [
        "Before computing the predicted rating for all rows in the test dataset, let's order the values."
      ]
    },
    {
      "cell_type": "code",
      "execution_count": 34,
      "metadata": {
        "collapsed": true,
        "id": "uLXpHn97PqJ-",
        "jupyter": {
          "outputs_hidden": true
        }
      },
      "outputs": [
        {
          "data": {
            "text/html": [
              "<div>\n",
              "<style scoped>\n",
              "    .dataframe tbody tr th:only-of-type {\n",
              "        vertical-align: middle;\n",
              "    }\n",
              "\n",
              "    .dataframe tbody tr th {\n",
              "        vertical-align: top;\n",
              "    }\n",
              "\n",
              "    .dataframe thead th {\n",
              "        text-align: right;\n",
              "    }\n",
              "</style>\n",
              "<table border=\"1\" class=\"dataframe\">\n",
              "  <thead>\n",
              "    <tr style=\"text-align: right;\">\n",
              "      <th></th>\n",
              "      <th>row_pos</th>\n",
              "      <th>column_pos</th>\n",
              "      <th>true_rating</th>\n",
              "    </tr>\n",
              "  </thead>\n",
              "  <tbody>\n",
              "    <tr>\n",
              "      <th>4</th>\n",
              "      <td>0</td>\n",
              "      <td>85</td>\n",
              "      <td>1.0</td>\n",
              "    </tr>\n",
              "    <tr>\n",
              "      <th>5</th>\n",
              "      <td>0</td>\n",
              "      <td>86</td>\n",
              "      <td>1.0</td>\n",
              "    </tr>\n",
              "    <tr>\n",
              "      <th>7</th>\n",
              "      <td>0</td>\n",
              "      <td>97</td>\n",
              "      <td>1.0</td>\n",
              "    </tr>\n",
              "    <tr>\n",
              "      <th>35</th>\n",
              "      <td>3</td>\n",
              "      <td>106</td>\n",
              "      <td>2.0</td>\n",
              "    </tr>\n",
              "    <tr>\n",
              "      <th>41</th>\n",
              "      <td>4</td>\n",
              "      <td>96</td>\n",
              "      <td>1.0</td>\n",
              "    </tr>\n",
              "    <tr>\n",
              "      <th>...</th>\n",
              "      <td>...</td>\n",
              "      <td>...</td>\n",
              "      <td>...</td>\n",
              "    </tr>\n",
              "    <tr>\n",
              "      <th>835</th>\n",
              "      <td>125</td>\n",
              "      <td>100</td>\n",
              "      <td>1.0</td>\n",
              "    </tr>\n",
              "    <tr>\n",
              "      <th>836</th>\n",
              "      <td>125</td>\n",
              "      <td>102</td>\n",
              "      <td>2.0</td>\n",
              "    </tr>\n",
              "    <tr>\n",
              "      <th>853</th>\n",
              "      <td>131</td>\n",
              "      <td>80</td>\n",
              "      <td>1.0</td>\n",
              "    </tr>\n",
              "    <tr>\n",
              "      <th>855</th>\n",
              "      <td>131</td>\n",
              "      <td>97</td>\n",
              "      <td>1.0</td>\n",
              "    </tr>\n",
              "    <tr>\n",
              "      <th>874</th>\n",
              "      <td>133</td>\n",
              "      <td>108</td>\n",
              "      <td>2.0</td>\n",
              "    </tr>\n",
              "  </tbody>\n",
              "</table>\n",
              "<p>91 rows × 3 columns</p>\n",
              "</div>"
            ],
            "text/plain": [
              "     row_pos  column_pos  true_rating\n",
              "4          0          85          1.0\n",
              "5          0          86          1.0\n",
              "7          0          97          1.0\n",
              "35         3         106          2.0\n",
              "41         4          96          1.0\n",
              "..       ...         ...          ...\n",
              "835      125         100          1.0\n",
              "836      125         102          2.0\n",
              "853      131          80          1.0\n",
              "855      131          97          1.0\n",
              "874      133         108          2.0\n",
              "\n",
              "[91 rows x 3 columns]"
            ]
          },
          "execution_count": 34,
          "metadata": {},
          "output_type": "execute_result"
        }
      ],
      "source": [
        "# Sort the values in the test dataset.\n",
        "test_pos.sort_values([\"row_pos\", \"column_pos\"])"
      ]
    },
    {
      "attachments": {},
      "cell_type": "markdown",
      "metadata": {
        "id": "GkCwjBB2PqJ-"
      },
      "source": [
        "To get a prediction for all the values in the test dataset, we will iterate over its rows and then store the predicted ratings in a list."
      ]
    },
    {
      "cell_type": "code",
      "execution_count": 35,
      "metadata": {
        "id": "SaoGswbhPqJ_"
      },
      "outputs": [],
      "source": [
        "recs_test = []\n",
        "\n",
        "# Iterate over rows of the test_pos dataset.\n",
        "for index, row in test_pos.iterrows():\n",
        "    recs_test.append(\n",
        "# Use recommender function.\n",
        "        recommender(\n",
        "            index_pos = int(row[0]), \n",
        "            column_pos = int(row[1])\n",
        "            )\n",
        "        )"
      ]
    },
    {
      "cell_type": "code",
      "execution_count": 36,
      "metadata": {
        "id": "C3G3nxYfPqJ_"
      },
      "outputs": [
        {
          "data": {
            "text/plain": [
              "[0.3400539715957499,\n",
              " 0.2112190483902951,\n",
              " 0.15095985340385742,\n",
              " 0.37877837458313424,\n",
              " 0.12745662532751287,\n",
              " 0.0,\n",
              " 0.8343007563825918,\n",
              " 0.7313123645772428,\n",
              " 0.6141444412177671,\n",
              " 0.02080861411182324,\n",
              " 0.4089890119812526,\n",
              " 0.2496028548515082,\n",
              " 0.3667170750531232,\n",
              " 0.3496022061284374,\n",
              " 0.20493691971519568,\n",
              " 0.28164625890609146,\n",
              " 0.3359695613413084,\n",
              " 0.09260794408361242,\n",
              " 0.6613059629558221,\n",
              " 0.14805632040113975,\n",
              " 0.15371994081538506,\n",
              " 0.5766159100432958,\n",
              " 0.31236909110852845,\n",
              " 0.522625369506689,\n",
              " 0.36879529333705396,\n",
              " 0.0,\n",
              " 0.0,\n",
              " 0.28861427268866496,\n",
              " 0.24237448524619903,\n",
              " 0.3765446995756903,\n",
              " 0.3149891925983005,\n",
              " 0.6136248872355373,\n",
              " 0.18602747209890638,\n",
              " 0.21903401803422917,\n",
              " 0.422837683285829,\n",
              " 0.3889175940784153,\n",
              " 0.4780304370734991,\n",
              " 0.048615872366982206,\n",
              " 0.4520918641601295,\n",
              " 0.13637056843375847,\n",
              " 0.08633576842101967,\n",
              " 0.1741554334370587,\n",
              " 0.074271312765842,\n",
              " 0.26568658845617543,\n",
              " 0.23582845781093995,\n",
              " 0.04083294549780297,\n",
              " 0.19169872600762689,\n",
              " 0.28271852840739725,\n",
              " 0.07675737318365386,\n",
              " 0.1370149680296188,\n",
              " 0.25342873809540867,\n",
              " 0.2551843592162157,\n",
              " 0.12565531429792098,\n",
              " 0.47661723389133226,\n",
              " 0.33986338699218943,\n",
              " 1.098903431405949,\n",
              " 0.7527396786298777,\n",
              " 0.2322091503467481,\n",
              " 0.2365512508147001,\n",
              " 0.31843057211080394,\n",
              " 0.05322584156401227,\n",
              " 0.17360625035091493,\n",
              " 0.34486810330781165,\n",
              " 0.40473281323571647,\n",
              " 0.1613375415938476,\n",
              " 0.8445615701798446,\n",
              " 0.3658509580736258,\n",
              " 0.17824630177452988,\n",
              " 0.542045608328572,\n",
              " 0.43687354120718824,\n",
              " 0.6100607308402448,\n",
              " 0.4629159083976187,\n",
              " 0.274228305214941,\n",
              " 0.2787421805288036,\n",
              " 0.28294802537051955,\n",
              " 0.19751020748340278,\n",
              " 0.2795784523232888,\n",
              " 0.4412114667310002,\n",
              " 0.1629865261005884,\n",
              " 0.18877180121905573,\n",
              " 0.3553042649198417,\n",
              " 0.5909681513975642,\n",
              " 0.7178849609582032,\n",
              " 0.1752794263055338,\n",
              " 0.12055815644607396,\n",
              " 0.14139684946816056,\n",
              " 0.23056633161949558,\n",
              " 0.11323123711367705,\n",
              " 0.754420166431822,\n",
              " 0.21177975812449507,\n",
              " 0.18511821982691265]"
            ]
          },
          "execution_count": 36,
          "metadata": {},
          "output_type": "execute_result"
        }
      ],
      "source": [
        "recs_test"
      ]
    },
    {
      "attachments": {},
      "cell_type": "markdown",
      "metadata": {
        "id": "kBsnEAKVPqJ_"
      },
      "source": [
        "Again, we add the list with the predictions as a new column to the `test_pos` DataFrame."
      ]
    },
    {
      "cell_type": "code",
      "execution_count": 37,
      "metadata": {
        "id": "qV2X5SnMPqKA"
      },
      "outputs": [],
      "source": [
        "# Add new column \"pred_rating\" with the predictions.\n",
        "test_pos = test_pos.assign(pred_rating = recs_test)"
      ]
    },
    {
      "cell_type": "code",
      "execution_count": 38,
      "metadata": {
        "id": "tPT5m9NTPqKA"
      },
      "outputs": [
        {
          "data": {
            "text/html": [
              "<div>\n",
              "<style scoped>\n",
              "    .dataframe tbody tr th:only-of-type {\n",
              "        vertical-align: middle;\n",
              "    }\n",
              "\n",
              "    .dataframe tbody tr th {\n",
              "        vertical-align: top;\n",
              "    }\n",
              "\n",
              "    .dataframe thead th {\n",
              "        text-align: right;\n",
              "    }\n",
              "</style>\n",
              "<table border=\"1\" class=\"dataframe\">\n",
              "  <thead>\n",
              "    <tr style=\"text-align: right;\">\n",
              "      <th></th>\n",
              "      <th>row_pos</th>\n",
              "      <th>column_pos</th>\n",
              "      <th>true_rating</th>\n",
              "      <th>pred_rating</th>\n",
              "    </tr>\n",
              "  </thead>\n",
              "  <tbody>\n",
              "    <tr>\n",
              "      <th>646</th>\n",
              "      <td>97</td>\n",
              "      <td>80</td>\n",
              "      <td>2.0</td>\n",
              "      <td>0.340054</td>\n",
              "    </tr>\n",
              "    <tr>\n",
              "      <th>384</th>\n",
              "      <td>57</td>\n",
              "      <td>103</td>\n",
              "      <td>2.0</td>\n",
              "      <td>0.211219</td>\n",
              "    </tr>\n",
              "    <tr>\n",
              "      <th>553</th>\n",
              "      <td>86</td>\n",
              "      <td>24</td>\n",
              "      <td>1.0</td>\n",
              "      <td>0.150960</td>\n",
              "    </tr>\n",
              "    <tr>\n",
              "      <th>643</th>\n",
              "      <td>97</td>\n",
              "      <td>42</td>\n",
              "      <td>1.0</td>\n",
              "      <td>0.378778</td>\n",
              "    </tr>\n",
              "    <tr>\n",
              "      <th>498</th>\n",
              "      <td>78</td>\n",
              "      <td>60</td>\n",
              "      <td>1.0</td>\n",
              "      <td>0.127457</td>\n",
              "    </tr>\n",
              "  </tbody>\n",
              "</table>\n",
              "</div>"
            ],
            "text/plain": [
              "     row_pos  column_pos  true_rating  pred_rating\n",
              "646       97          80          2.0     0.340054\n",
              "384       57         103          2.0     0.211219\n",
              "553       86          24          1.0     0.150960\n",
              "643       97          42          1.0     0.378778\n",
              "498       78          60          1.0     0.127457"
            ]
          },
          "execution_count": 38,
          "metadata": {},
          "output_type": "execute_result"
        }
      ],
      "source": [
        "test_pos.head()"
      ]
    },
    {
      "attachments": {},
      "cell_type": "markdown",
      "metadata": {
        "id": "iClqrx3YlWfQ"
      },
      "source": [
        "## 3.3&nbsp;Use visualizations to compare true and predicted ratings"
      ]
    },
    {
      "attachments": {},
      "cell_type": "markdown",
      "metadata": {
        "id": "iG-KgtaVj123"
      },
      "source": [
        "Let's have a look at the distributions of both the true and the predicted ratings."
      ]
    },
    {
      "cell_type": "code",
      "execution_count": 39,
      "metadata": {
        "id": "nG2JimJ9PqKA"
      },
      "outputs": [
        {
          "data": {
            "image/png": "[encoded data removed]",
            "text/plain": [
              "<Figure size 640x480 with 1 Axes>"
            ]
          },
          "metadata": {},
          "output_type": "display_data"
        }
      ],
      "source": [
        "# Predicted ratings' distribution first.\n",
        "test_pos.pred_rating.hist();"
      ]
    },
    {
      "cell_type": "code",
      "execution_count": 40,
      "metadata": {
        "id": "f-JR-58sPqKA"
      },
      "outputs": [
        {
          "data": {
            "image/png": "[encoded data removed]",
            "text/plain": [
              "<Figure size 640x480 with 1 Axes>"
            ]
          },
          "metadata": {},
          "output_type": "display_data"
        }
      ],
      "source": [
        "# True ratings' distribution.\n",
        "test_pos.true_rating.hist();"
      ]
    },
    {
      "attachments": {},
      "cell_type": "markdown",
      "metadata": {
        "id": "M7Iql0TKlM2C"
      },
      "source": [
        "It looks like our predictions are generally much lower than the true ratings. Our small visualizations don't seem to be enough to evaluate the quality of our predictions.\n",
        "\n",
        "Let's try to quantify this."
      ]
    },
    {
      "attachments": {},
      "cell_type": "markdown",
      "metadata": {
        "id": "gDGpNhYcPqKB"
      },
      "source": [
        "# 4.&nbsp;Performance metrics"
      ]
    },
    {
      "attachments": {},
      "cell_type": "markdown",
      "metadata": {
        "id": "6Wxi5fTDlTd5"
      },
      "source": [
        "From the various metrics available, let's pick the $R^2$ score first to quantify the difference between the predicted and the true ratings. As a second step, we will use the mean absolute error."
      ]
    },
    {
      "attachments": {},
      "cell_type": "markdown",
      "metadata": {
        "id": "j4xqDzW0VypK"
      },
      "source": [
        "## 4.1&nbsp;$R^2$ score"
      ]
    },
    {
      "attachments": {},
      "cell_type": "markdown",
      "metadata": {
        "id": "zPpSMMThUru7"
      },
      "source": [
        "The highest possible $R^2$ score is 1 while usually, the lower boundary is 0. Nevertheless, the $R^2$ can also become negative when the predicted values perform worse than just using the average score for each prediction would have been.\n",
        "\n",
        "Have a look at the documentation of the $R^2$ score [here](https://scikit-learn.org/stable/modules/generated/sklearn.metrics.r2_score.html?highlight=r2%20score#sklearn.metrics.r2_score)."
      ]
    },
    {
      "cell_type": "code",
      "execution_count": 41,
      "metadata": {
        "id": "IjD1tRYxs3mN"
      },
      "outputs": [],
      "source": [
        "from sklearn.metrics import r2_score"
      ]
    },
    {
      "cell_type": "code",
      "execution_count": 42,
      "metadata": {
        "id": "aGQjuvttPqKD"
      },
      "outputs": [
        {
          "data": {
            "text/plain": [
              "-5.229145268690501"
            ]
          },
          "execution_count": 42,
          "metadata": {},
          "output_type": "execute_result"
        }
      ],
      "source": [
        "# Calculate R squared for all predictions and true ratings.\n",
        "r2_score(test_pos.true_rating, test_pos.pred_rating)"
      ]
    },
    {
      "attachments": {},
      "cell_type": "markdown",
      "metadata": {
        "id": "YpgQQXjenKA2"
      },
      "source": [
        "A negative $R^2$ score! Let's try a different metric."
      ]
    },
    {
      "attachments": {},
      "cell_type": "markdown",
      "metadata": {
        "id": "NQ3gYImzUvzg"
      },
      "source": [
        "## 4.2&nbsp;Mean Absolute Error"
      ]
    },
    {
      "cell_type": "code",
      "execution_count": 43,
      "metadata": {
        "id": "r6i37VJNPqKB"
      },
      "outputs": [],
      "source": [
        "from sklearn.metrics import mean_absolute_error"
      ]
    },
    {
      "cell_type": "code",
      "execution_count": 44,
      "metadata": {
        "id": "vERvehsxPqKB"
      },
      "outputs": [
        {
          "data": {
            "text/plain": [
              "1.1258641792203279"
            ]
          },
          "execution_count": 44,
          "metadata": {},
          "output_type": "execute_result"
        }
      ],
      "source": [
        "# Calculate MAE for all predictions and true ratings.\n",
        "mean_absolute_error(test_pos.true_rating, test_pos.pred_rating)"
      ]
    },
    {
      "attachments": {},
      "cell_type": "markdown",
      "metadata": {
        "id": "c4Ff_KLOnH7S"
      },
      "source": [
        "Let's visualize the mean absolute errors for each rating."
      ]
    },
    {
      "cell_type": "code",
      "execution_count": 45,
      "metadata": {
        "id": "9uXODvGInGWV"
      },
      "outputs": [],
      "source": [
        "import matplotlib.pyplot as plt\n",
        "import seaborn as sns"
      ]
    },
    {
      "cell_type": "code",
      "execution_count": 46,
      "metadata": {
        "id": "06p945zFPqKC"
      },
      "outputs": [
        {
          "data": {
            "image/png": "[encoded data removed]",
            "text/plain": [
              "<Figure size 640x480 with 1 Axes>"
            ]
          },
          "metadata": {},
          "output_type": "display_data"
        }
      ],
      "source": [
        "plt.title('Error analysis')\n",
        "plt.xlabel('Predicted ratings')\n",
        "plt.ylabel('True ratings')\n",
        "\n",
        "# Plot diagonal for predictions = true ratings.\n",
        "sns.lineplot(x=[0,2], y=[0,2], color='red')\n",
        "# For each test datapoint, plot predicted vs. true rating.\n",
        "sns.scatterplot(x=test_pos[\"pred_rating\"], y=test_pos[\"true_rating\"], alpha=0.4);"
      ]
    },
    {
      "attachments": {},
      "cell_type": "markdown",
      "metadata": {
        "id": "nPxKDF2wpF7Y"
      },
      "source": [
        "We know that our model won't be capable of exact predictions (i.e. values on the red diagonal). Luckily, this doesn't matter much for recommenders.\n",
        "\n",
        "Instead, we need to be able to rank items from most likely to be enjoyed to least likely.\n",
        "\n",
        "Therefore, it is more important for us that the order is correct. To check for this, we will investigate whether the predicted values for true values of 2 are higher than the predicted values for true values of 1."
      ]
    },
    {
      "attachments": {},
      "cell_type": "markdown",
      "metadata": {
        "id": "q48dCfZQo43t"
      },
      "source": [
        "Average predicted score for true ratings of 2."
      ]
    },
    {
      "cell_type": "code",
      "execution_count": 47,
      "metadata": {
        "id": "raxZC3V3PqKC"
      },
      "outputs": [
        {
          "data": {
            "text/plain": [
              "0.34185354397750806"
            ]
          },
          "execution_count": 47,
          "metadata": {},
          "output_type": "execute_result"
        }
      ],
      "source": [
        "# Filter for true ratings of 2.\n",
        "test_pos.loc[test_pos.true_rating==2,:][\"pred_rating\"].mean()"
      ]
    },
    {
      "attachments": {},
      "cell_type": "markdown",
      "metadata": {
        "id": "-RQsmcfXo96H"
      },
      "source": [
        "Average predicted score for true ratings of 1."
      ]
    },
    {
      "cell_type": "code",
      "execution_count": 48,
      "metadata": {
        "id": "U7RqdSL6PqKC"
      },
      "outputs": [
        {
          "data": {
            "text/plain": [
              "0.2916121163107808"
            ]
          },
          "execution_count": 48,
          "metadata": {},
          "output_type": "execute_result"
        }
      ],
      "source": [
        "# Filter for true ratings of 1.\n",
        "test_pos.loc[test_pos.true_rating==1,:][\"pred_rating\"].mean()"
      ]
    },
    {
      "attachments": {},
      "cell_type": "markdown",
      "metadata": {
        "id": "mpfqDZ_ypsPH"
      },
      "source": [
        "We can see that on average, our recommender predicts higher ratings for restaurants whose true ratings are also higher. This means that in general, our recommender performs reasonably well at finding the correct order."
      ]
    },
    {
      "attachments": {},
      "cell_type": "markdown",
      "metadata": {
        "id": "YwRaf-_APqKD"
      },
      "source": [
        "# 5.&nbsp;Challenge\n",
        "\n",
        "Evaluate whether a recommender system using the sum of `rating + food_rating + service_rating` instead of only the `rating` is better?"
      ]
    },
    {
      "cell_type": "code",
      "execution_count": 49,
      "metadata": {
        "id": "MtluGSrMPqKD"
      },
      "outputs": [
        {
          "data": {
            "text/html": [
              "<div>\n",
              "<style scoped>\n",
              "    .dataframe tbody tr th:only-of-type {\n",
              "        vertical-align: middle;\n",
              "    }\n",
              "\n",
              "    .dataframe tbody tr th {\n",
              "        vertical-align: top;\n",
              "    }\n",
              "\n",
              "    .dataframe thead th {\n",
              "        text-align: right;\n",
              "    }\n",
              "</style>\n",
              "<table border=\"1\" class=\"dataframe\">\n",
              "  <thead>\n",
              "    <tr style=\"text-align: right;\">\n",
              "      <th></th>\n",
              "      <th>userID</th>\n",
              "      <th>placeID</th>\n",
              "      <th>rating</th>\n",
              "      <th>food_rating</th>\n",
              "      <th>service_rating</th>\n",
              "    </tr>\n",
              "  </thead>\n",
              "  <tbody>\n",
              "    <tr>\n",
              "      <th>0</th>\n",
              "      <td>U1077</td>\n",
              "      <td>135085</td>\n",
              "      <td>2</td>\n",
              "      <td>2</td>\n",
              "      <td>2</td>\n",
              "    </tr>\n",
              "    <tr>\n",
              "      <th>1</th>\n",
              "      <td>U1077</td>\n",
              "      <td>135038</td>\n",
              "      <td>2</td>\n",
              "      <td>2</td>\n",
              "      <td>1</td>\n",
              "    </tr>\n",
              "    <tr>\n",
              "      <th>2</th>\n",
              "      <td>U1077</td>\n",
              "      <td>132825</td>\n",
              "      <td>2</td>\n",
              "      <td>2</td>\n",
              "      <td>2</td>\n",
              "    </tr>\n",
              "    <tr>\n",
              "      <th>3</th>\n",
              "      <td>U1077</td>\n",
              "      <td>135060</td>\n",
              "      <td>1</td>\n",
              "      <td>2</td>\n",
              "      <td>2</td>\n",
              "    </tr>\n",
              "    <tr>\n",
              "      <th>4</th>\n",
              "      <td>U1068</td>\n",
              "      <td>135104</td>\n",
              "      <td>1</td>\n",
              "      <td>1</td>\n",
              "      <td>2</td>\n",
              "    </tr>\n",
              "  </tbody>\n",
              "</table>\n",
              "</div>"
            ],
            "text/plain": [
              "  userID  placeID  rating  food_rating  service_rating\n",
              "0  U1077   135085       2            2               2\n",
              "1  U1077   135038       2            2               1\n",
              "2  U1077   132825       2            2               2\n",
              "3  U1077   135060       1            2               2\n",
              "4  U1068   135104       1            1               2"
            ]
          },
          "execution_count": 49,
          "metadata": {},
          "output_type": "execute_result"
        }
      ],
      "source": [
        "frame.head()"
      ]
    },
    {
      "cell_type": "code",
      "execution_count": null,
      "metadata": {
        "id": "6O3aCvJDzbnt"
      },
      "outputs": [],
      "source": [
        "# Evaluate whether a recommender system using the sum of `rating + food_rating + service_rating` instead of only the `rating` is better?\n",
        "\n",
        "# Create a copy of the users-items DataFrame and set all values to zero.\n",
        "\n",
        "train = users_items.copy()\n",
        "\n",
        "\n"
      ]
    }
  ],
  "metadata": {
    "colab": {
      "provenance": []
    },
    "kernelspec": {
      "display_name": "Python 3",
      "language": "python",
      "name": "python3"
    },
    "language_info": {
      "codemirror_mode": {
        "name": "ipython",
        "version": 3
      },
      "file_extension": ".py",
      "mimetype": "text/x-python",
      "name": "python",
      "nbconvert_exporter": "python",
      "pygments_lexer": "ipython3",
      "version": "3.9.13"
    }
  },
  "nbformat": 4,
  "nbformat_minor": 0
}
