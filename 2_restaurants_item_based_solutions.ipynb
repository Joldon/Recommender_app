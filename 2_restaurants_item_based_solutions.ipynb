{
  "cells": [
    {
      "cell_type": "markdown",
      "source": [
        "These datasets are hosted on: https://archive.ics.uci.edu/ml/datasets/Restaurant+%26+consumer+data\n",
        "\n",
        "They were originally published by: Blanca Vargas-Govea, Juan Gabriel González-Serna, Rafael Ponce-Medellín. Effects of relevant contextual features in the performance of a restaurant recommender system. In RecSys11: Workshop on Context Aware Recommender Systems (CARS-2011), Chicago, IL, USA, October 23, 2011."
      ],
      "metadata": {
        "id": "xcdd9EVS8aTh"
      }
    },
    {
      "cell_type": "markdown",
      "metadata": {
        "id": "5xdbbrzH6c4t"
      },
      "source": [
        "# Making Recommendations Based on Correlation"
      ]
    },
    {
      "cell_type": "code",
      "execution_count": null,
      "metadata": {
        "id": "KKNHMSzM6c4x"
      },
      "outputs": [],
      "source": [
        "import numpy as np\n",
        "import pandas as pd"
      ]
    },
    {
      "cell_type": "code",
      "source": [
        "# rating_final.csv\n",
        "url = 'https://drive.google.com/file/d/1ptu4AlEXO4qQ8GytxKHoeuS1y4l_zWkC/view?usp=sharing' \n",
        "path = 'https://drive.google.com/uc?export=download&id='+url.split('/')[-2]\n",
        "frame = pd.read_csv(path)\n",
        "\n",
        "# chefmozcuisine.csv\n",
        "url = 'https://drive.google.com/file/d/1S0_EGSRERIkSKW4D8xHPGZMqvlhuUzp1/view?usp=sharing' \n",
        "path = 'https://drive.google.com/uc?export=download&id='+url.split('/')[-2]\n",
        "cuisine = pd.read_csv(path)\n",
        "\n",
        "# 'geoplaces2.csv'\n",
        "url = 'https://drive.google.com/file/d/1ee3ib7LqGsMUksY68SD9yBItRvTFELxo/view?usp=sharing' \n",
        "path = 'https://drive.google.com/uc?export=download&id='+url.split('/')[-2]\n",
        "geodata = pd.read_csv(path, encoding = 'CP1252') # change encoding to 'mbcs' in Windows"
      ],
      "metadata": {
        "id": "7DuWvUSk7AEA"
      },
      "execution_count": null,
      "outputs": []
    },
    {
      "cell_type": "markdown",
      "metadata": {
        "id": "awx-mb6o6c47"
      },
      "source": [
        "### Preparing Data For Correlation"
      ]
    },
    {
      "cell_type": "markdown",
      "metadata": {
        "id": "BXT3lG166c47"
      },
      "source": [
        "We will look for restaurants that are similar to the most popular restaurant from the last notebook \"Tortas Locas Hipocampo\". \"Similarity\" will be defined by how well other places correlate with \"Tortas Locas\" in the user-item matrix. In this matrix, we have all the users in the rows and all the restaurants in the columns. It has many NaNs because most of the time users have not visited many restaurants —we call this a sparse matrix."
      ]
    },
    {
      "cell_type": "code",
      "execution_count": null,
      "metadata": {
        "id": "d0UNAV9z6c48"
      },
      "outputs": [],
      "source": [
        "places_crosstab = pd.pivot_table(data=frame, values='rating', index='userID', columns='placeID')\n",
        "places_crosstab.head(10)"
      ]
    },
    {
      "cell_type": "markdown",
      "metadata": {
        "id": "IohzYkXy6c49"
      },
      "source": [
        "Let's look at the users that have visited \"Tortas Locas\":"
      ]
    },
    {
      "cell_type": "code",
      "source": [
        "# Tortas Locas\n",
        "top_popular_placeID = 135085"
      ],
      "metadata": {
        "id": "ujXTzNB81sn5"
      },
      "execution_count": null,
      "outputs": []
    },
    {
      "cell_type": "code",
      "execution_count": null,
      "metadata": {
        "jupyter": {
          "outputs_hidden": true
        },
        "id": "33ibUyQA6c49"
      },
      "outputs": [],
      "source": [
        "Tortas_ratings = places_crosstab[top_popular_placeID]\n",
        "Tortas_ratings[Tortas_ratings>=0] # exclude NaNs"
      ]
    },
    {
      "cell_type": "markdown",
      "metadata": {
        "id": "0c9el0vM6c49"
      },
      "source": [
        "## Evaluating Similarity Based on Correlation\n",
        "\n",
        "Now we will look at how well other restaurants correlate with Tortas Locas. A strong positive correlation between two restaurants indicates that users who liked one restaruant also liked the other. A negative correlation would mean that users who liked one restaurant did not like the other. So, we will look for strong, positive correlations to find similar restaurants."
      ]
    },
    {
      "cell_type": "code",
      "execution_count": null,
      "metadata": {
        "collapsed": true,
        "jupyter": {
          "outputs_hidden": true
        },
        "id": "Gmr_eXUs6c49"
      },
      "outputs": [],
      "source": [
        "# we get warnings because computing the pearson correlation coefficient with NaNs, but the results are still ok\n",
        "similar_to_Tortas = places_crosstab.corrwith(Tortas_ratings)\n",
        "similar_to_Tortas"
      ]
    },
    {
      "cell_type": "markdown",
      "metadata": {
        "id": "FS45frix6c4-"
      },
      "source": [
        "Many restuarants get a NaN, because there are no users that went to both that restaurant _and_ Tortas Locas. But some of them give us a correlation score. Let's drop NaNs and look at the valid results:"
      ]
    },
    {
      "cell_type": "code",
      "execution_count": null,
      "metadata": {
        "jupyter": {
          "outputs_hidden": true
        },
        "id": "MFXt7jgE6c4-"
      },
      "outputs": [],
      "source": [
        "corr_Tortas = pd.DataFrame(similar_to_Tortas, columns=['PearsonR'])\n",
        "corr_Tortas.dropna(inplace=True)\n",
        "corr_Tortas.head(12)"
      ]
    },
    {
      "cell_type": "markdown",
      "metadata": {
        "id": "e6xNP7Qa6c4-"
      },
      "source": [
        "Some correlations are a perfect 1. It is possible that this is because very few users went to both that restaurant and \"Tortas Locas\" (also because there are very few rating options, only 0, 1 and 2). "
      ]
    },
    {
      "cell_type": "code",
      "source": [
        "rating = pd.DataFrame(frame.groupby('placeID')['rating'].mean())\n",
        "rating['rating_count'] = frame.groupby('placeID')['rating'].count()"
      ],
      "metadata": {
        "id": "gL0CeFtB2K70"
      },
      "execution_count": null,
      "outputs": []
    },
    {
      "cell_type": "code",
      "execution_count": null,
      "metadata": {
        "jupyter": {
          "outputs_hidden": true
        },
        "id": "bw5M2uS16c4_"
      },
      "outputs": [],
      "source": [
        "Tortas_corr_summary = corr_Tortas.join(rating['rating_count'])\n",
        "Tortas_corr_summary.drop(top_popular_placeID, inplace=True) # drop Tortas Locas itself\n",
        "Tortas_corr_summary"
      ]
    },
    {
      "cell_type": "markdown",
      "metadata": {
        "id": "WYKkimuF6c5g"
      },
      "source": [
        "Let's filter out restaurants with a rating count below 10.\n",
        "\n",
        "Then, take the top 10 restaurants in terms of similarity to Tortas:"
      ]
    },
    {
      "cell_type": "code",
      "execution_count": null,
      "metadata": {
        "jupyter": {
          "outputs_hidden": true
        },
        "id": "trcxg1jl6c5h"
      },
      "outputs": [],
      "source": [
        "top10 = Tortas_corr_summary[Tortas_corr_summary['rating_count']>=10].sort_values('PearsonR', ascending=False).head(10)\n",
        "top10"
      ]
    },
    {
      "cell_type": "code",
      "source": [
        "places =  geodata[['placeID', 'name']]"
      ],
      "metadata": {
        "id": "tpb2ceFY2XqW"
      },
      "execution_count": null,
      "outputs": []
    },
    {
      "cell_type": "code",
      "execution_count": null,
      "metadata": {
        "jupyter": {
          "outputs_hidden": true
        },
        "id": "vjRXqauD6c5h"
      },
      "outputs": [],
      "source": [
        "top10 = top10.merge(places, left_index=True, right_on=\"placeID\")\n",
        "top10"
      ]
    },
    {
      "cell_type": "markdown",
      "metadata": {
        "id": "CPkZoL1a6c5h"
      },
      "source": [
        "Let's look at the cuisine type (some restaurants do not have a cuisine type... but for the ones that do, here it is):"
      ]
    },
    {
      "cell_type": "code",
      "execution_count": null,
      "metadata": {
        "id": "z4HeKzGr6c5h"
      },
      "outputs": [],
      "source": [
        "top10.merge(cuisine)"
      ]
    },
    {
      "cell_type": "markdown",
      "metadata": {
        "id": "aYon3SLU6c5i"
      },
      "source": [
        "## Challenge:\n",
        "\n",
        "Create a function that takes as input a restaurant id and a number (n), and outputs the names of the top n most similar restuarants to the inputed one.\n",
        "\n",
        "You can assume that the user-item matrix (places_crosstab) is already created."
      ]
    },
    {
      "cell_type": "code",
      "execution_count": null,
      "metadata": {
        "id": "1Q1mFMry6c5i"
      },
      "outputs": [],
      "source": [
        "def top_n_rest(rest_id, n):\n",
        "    rest_ratings = places_crosstab[rest_id]\n",
        "    similar_to_rest = places_crosstab.corrwith(rest_ratings)\n",
        "    corr_rest = pd.DataFrame(similar_to_rest, columns=['PearsonR'])\n",
        "    corr_rest.dropna(inplace=True)\n",
        "    rest_corr_summary = corr_rest.join(rating['rating_count'])\n",
        "    rest_corr_summary.drop(rest_id, inplace=True) # drop the inputed restaurant itself\n",
        "    top10 = rest_corr_summary[rest_corr_summary['rating_count']>=10].sort_values('PearsonR', ascending=False).head(n)\n",
        "    top10 = top10.merge(places, left_index=True, right_on=\"placeID\")\n",
        "    return list(top10[\"name\"])"
      ]
    },
    {
      "cell_type": "code",
      "execution_count": null,
      "metadata": {
        "id": "QEuZ_dWf6c5i"
      },
      "outputs": [],
      "source": [
        "import warnings\n",
        "warnings.filterwarnings('ignore')"
      ]
    },
    {
      "cell_type": "code",
      "execution_count": null,
      "metadata": {
        "id": "qTH_0wC26c5j"
      },
      "outputs": [],
      "source": [
        "top_n_rest(132921, 10)"
      ]
    },
    {
      "cell_type": "markdown",
      "metadata": {
        "jupyter": {
          "outputs_hidden": true
        },
        "id": "s0bGPv-v6c5j"
      },
      "source": [
        "### BONUS (Next iteration)\n",
        "Instead of flitering out restaurants with a rating count below 10, let's consider a restaurant X as similar to Y only if at least 3 users have gone to both X and Y. \n",
        "\n",
        "i.e. user 143, 153, and 168 went to both restaurants - not 3 random users visited X, and a different 3 random users visited y"
      ]
    },
    {
      "cell_type": "code",
      "execution_count": null,
      "metadata": {
        "id": "AugPTnnB6c5j"
      },
      "outputs": [],
      "source": [
        "def top_n_rest(rest_id, n):\n",
        "    matching_three_users = places_crosstab.loc[places_crosstab[rest_id].notna(), :]\n",
        "    matching_three_users = matching_three_users.loc[:, matching_three_users.notna().sum() >= 3]\n",
        "    rest_ratings = matching_three_users[rest_id]\n",
        "    similar_to_rest = places_crosstab.corrwith(rest_ratings)\n",
        "    corr_rest = pd.DataFrame(similar_to_Tortas, columns=['PearsonR'])\n",
        "    corr_rest.dropna(inplace=True)\n",
        "    rest_corr_summary = corr_rest.join(rating['rating_count'])\n",
        "    rest_corr_summary.drop(rest_id, inplace=True) # drop the inputed restaurant itself\n",
        "    top10 = rest_corr_summary[rest_corr_summary['rating_count']>=10].sort_values('PearsonR', ascending=False).head(n)\n",
        "    top10 = top10.merge(places, left_index=True, right_on=\"placeID\")\n",
        "    return list(top10[\"name\"])"
      ]
    },
    {
      "cell_type": "code",
      "source": [
        "top_n_rest(132921, 10)"
      ],
      "metadata": {
        "id": "1iR6wzgEaJf0"
      },
      "execution_count": null,
      "outputs": []
    }
  ],
  "metadata": {
    "kernelspec": {
      "display_name": "Python 3",
      "language": "python",
      "name": "python3"
    },
    "language_info": {
      "codemirror_mode": {
        "name": "ipython",
        "version": 3
      },
      "file_extension": ".py",
      "mimetype": "text/x-python",
      "name": "python",
      "nbconvert_exporter": "python",
      "pygments_lexer": "ipython3",
      "version": "3.8.5"
    },
    "colab": {
      "provenance": []
    }
  },
  "nbformat": 4,
  "nbformat_minor": 0
}